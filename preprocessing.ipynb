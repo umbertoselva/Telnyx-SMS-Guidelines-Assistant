{
  "nbformat": 4,
  "nbformat_minor": 0,
  "metadata": {
    "colab": {
      "provenance": []
    },
    "kernelspec": {
      "name": "python3",
      "display_name": "Python 3"
    },
    "language_info": {
      "name": "python"
    }
  },
  "cells": [
    {
      "cell_type": "markdown",
      "source": [
        "## Preprocessing"
      ],
      "metadata": {
        "id": "PLb_0yr7JjBO"
      }
    },
    {
      "cell_type": "markdown",
      "source": [
        "\n",
        "\n",
        "1. Inspecting the documentation\n",
        "2. Removing duplicates\n",
        "2. Removing the HTML tags from the 'body' content\n",
        "3. Making sure each 'body' content includes the country's name\n",
        "4. Removing newlines\n",
        "\n"
      ],
      "metadata": {
        "id": "ws4B5c7kk5C8"
      }
    },
    {
      "cell_type": "markdown",
      "source": [
        "### 1) Inspecting the documentation"
      ],
      "metadata": {
        "id": "jkxwc19U7kiE"
      }
    },
    {
      "cell_type": "code",
      "source": [
        "ls"
      ],
      "metadata": {
        "colab": {
          "base_uri": "https://localhost:8080/"
        },
        "id": "Sy7GWu_FKaze",
        "outputId": "185f411d-9996-4201-d4c5-d30f87aa8d26"
      },
      "execution_count": 1,
      "outputs": [
        {
          "output_type": "stream",
          "name": "stdout",
          "text": [
            "documentation2.json  documentation4.json  preprocessed.json\n",
            "documentation3.json  documentation.json   \u001b[0m\u001b[01;34msample_data\u001b[0m/\n"
          ]
        }
      ]
    },
    {
      "cell_type": "code",
      "source": [
        "import json"
      ],
      "metadata": {
        "id": "kHNpEWy1KuX9"
      },
      "execution_count": 2,
      "outputs": []
    },
    {
      "cell_type": "code",
      "execution_count": 3,
      "metadata": {
        "id": "3r0CDpmtJY1v"
      },
      "outputs": [],
      "source": [
        "with open('documentation.json') as f:\n",
        "  data = json.load(f)"
      ]
    },
    {
      "cell_type": "code",
      "source": [
        "type(data)"
      ],
      "metadata": {
        "colab": {
          "base_uri": "https://localhost:8080/"
        },
        "id": "87CSBU__Jn45",
        "outputId": "cc42d648-edd1-4009-d0e7-f6302db973fa"
      },
      "execution_count": 4,
      "outputs": [
        {
          "output_type": "execute_result",
          "data": {
            "text/plain": [
              "list"
            ]
          },
          "metadata": {},
          "execution_count": 4
        }
      ]
    },
    {
      "cell_type": "code",
      "source": [
        "# data"
      ],
      "metadata": {
        "id": "8-rRAM9hJn58"
      },
      "execution_count": 5,
      "outputs": []
    },
    {
      "cell_type": "code",
      "source": [
        "len(data)"
      ],
      "metadata": {
        "colab": {
          "base_uri": "https://localhost:8080/"
        },
        "id": "IyoLChLdJn7z",
        "outputId": "bc3031ed-e60c-49da-a74b-8e37117a0d07"
      },
      "execution_count": 6,
      "outputs": [
        {
          "output_type": "execute_result",
          "data": {
            "text/plain": [
              "414"
            ]
          },
          "metadata": {},
          "execution_count": 6
        }
      ]
    },
    {
      "cell_type": "code",
      "source": [
        "data[0]"
      ],
      "metadata": {
        "colab": {
          "base_uri": "https://localhost:8080/"
        },
        "id": "YLmvhgSEJn-g",
        "outputId": "bd726066-08c3-477a-bd46-f4d8fd1c6ff1"
      },
      "execution_count": 7,
      "outputs": [
        {
          "output_type": "execute_result",
          "data": {
            "text/plain": [
              "{'id': '6683745',\n",
              " 'title': 'Serbia: SMS Guidelines',\n",
              " 'body': '<h1 id=\"h_7b0806db4c\"><b>Serbia: SMS Guidelines</b></h1>\\n<p class=\"no-margin\"><b>MCC: </b>220<br><b>Dial Code: </b>381<br><br>Alphanumeric Sender IDs are supported with registration. <br><br>Registration is possible to ensure Alphanumeric Senders can be maintained. Without registration, Alpha Senders will be overwritten to Generic Alpha Sender IDs. <br><br>The registration of Alphanumeric Senders involves monthly fees.<br><br>Please make sure to always refer to our <a href=\"https://app.intercom.com/\" target=\"_blank\" class=\"intercom-content-link\">Acceptable Use Policy for Messaging</a>.<br><br>For more information on Alpha Sender ID registration kindly reach out to <a href=\"mailto:alpha_sender_id@telnyx.com\" target=\"_blank\" class=\"intercom-content-link\">alpha_sender_id@telnyx.com</a>.<br><br></p>',\n",
              " 'url': 'https://support.telnyx.com/en/articles/6683745-serbia-sms-guidelines'}"
            ]
          },
          "metadata": {},
          "execution_count": 7
        }
      ]
    },
    {
      "cell_type": "code",
      "source": [
        "type(data[0])"
      ],
      "metadata": {
        "colab": {
          "base_uri": "https://localhost:8080/"
        },
        "id": "UjMC5g81JoBn",
        "outputId": "bee2e4a3-5e21-470f-8d04-7f2221388101"
      },
      "execution_count": 8,
      "outputs": [
        {
          "output_type": "execute_result",
          "data": {
            "text/plain": [
              "dict"
            ]
          },
          "metadata": {},
          "execution_count": 8
        }
      ]
    },
    {
      "cell_type": "markdown",
      "source": [
        "### 2) Removing duplicates"
      ],
      "metadata": {
        "id": "nChK3SMtJ0af"
      }
    },
    {
      "cell_type": "code",
      "source": [
        "new_data = []\n",
        "\n",
        "# loop through each dict\n",
        "for state in data:\n",
        "  # check if we have encountered this state yet\n",
        "  if state not in new_data:\n",
        "    # if not, append it to the list\n",
        "    new_data.append(state)"
      ],
      "metadata": {
        "id": "AtOhJaggJ0yY"
      },
      "execution_count": 9,
      "outputs": []
    },
    {
      "cell_type": "code",
      "source": [
        "len(new_data)"
      ],
      "metadata": {
        "colab": {
          "base_uri": "https://localhost:8080/"
        },
        "id": "-nXguXBkJ0zN",
        "outputId": "b4cda1cb-0f13-4e56-b89d-334a82bdc0c0"
      },
      "execution_count": 10,
      "outputs": [
        {
          "output_type": "execute_result",
          "data": {
            "text/plain": [
              "212"
            ]
          },
          "metadata": {},
          "execution_count": 10
        }
      ]
    },
    {
      "cell_type": "code",
      "source": [
        "new_data[0]"
      ],
      "metadata": {
        "colab": {
          "base_uri": "https://localhost:8080/"
        },
        "id": "AiHVl6HiJ018",
        "outputId": "b7f4333c-2e8b-40b1-fa52-541006ebdc79"
      },
      "execution_count": 11,
      "outputs": [
        {
          "output_type": "execute_result",
          "data": {
            "text/plain": [
              "{'id': '6683745',\n",
              " 'title': 'Serbia: SMS Guidelines',\n",
              " 'body': '<h1 id=\"h_7b0806db4c\"><b>Serbia: SMS Guidelines</b></h1>\\n<p class=\"no-margin\"><b>MCC: </b>220<br><b>Dial Code: </b>381<br><br>Alphanumeric Sender IDs are supported with registration. <br><br>Registration is possible to ensure Alphanumeric Senders can be maintained. Without registration, Alpha Senders will be overwritten to Generic Alpha Sender IDs. <br><br>The registration of Alphanumeric Senders involves monthly fees.<br><br>Please make sure to always refer to our <a href=\"https://app.intercom.com/\" target=\"_blank\" class=\"intercom-content-link\">Acceptable Use Policy for Messaging</a>.<br><br>For more information on Alpha Sender ID registration kindly reach out to <a href=\"mailto:alpha_sender_id@telnyx.com\" target=\"_blank\" class=\"intercom-content-link\">alpha_sender_id@telnyx.com</a>.<br><br></p>',\n",
              " 'url': 'https://support.telnyx.com/en/articles/6683745-serbia-sms-guidelines'}"
            ]
          },
          "metadata": {},
          "execution_count": 11
        }
      ]
    },
    {
      "cell_type": "code",
      "source": [
        "# save the updated json file\n",
        "with open('documentation2.json', 'w') as outfile:\n",
        "    json.dump(new_data, outfile, indent=4)"
      ],
      "metadata": {
        "id": "8pJ8jCzNJ04a"
      },
      "execution_count": 12,
      "outputs": []
    },
    {
      "cell_type": "code",
      "source": [
        "# open updated json file\n",
        "with open('documentation2.json') as f:\n",
        "  data2 = json.load(f)"
      ],
      "metadata": {
        "id": "w6lpVZxcKTrE"
      },
      "execution_count": 13,
      "outputs": []
    },
    {
      "cell_type": "code",
      "source": [
        "len(data2)"
      ],
      "metadata": {
        "colab": {
          "base_uri": "https://localhost:8080/"
        },
        "id": "XF7Ev3LZKWY2",
        "outputId": "19dd8a72-ebdd-4056-ec5f-1bd12dfc9745"
      },
      "execution_count": 14,
      "outputs": [
        {
          "output_type": "execute_result",
          "data": {
            "text/plain": [
              "212"
            ]
          },
          "metadata": {},
          "execution_count": 14
        }
      ]
    },
    {
      "cell_type": "markdown",
      "source": [
        "### 3) Removing the HTML tags from the 'body' content"
      ],
      "metadata": {
        "id": "xWdY7nibLWsQ"
      }
    },
    {
      "cell_type": "code",
      "source": [
        "from bs4 import BeautifulSoup"
      ],
      "metadata": {
        "id": "J3umyQ4ELnRU"
      },
      "execution_count": 15,
      "outputs": []
    },
    {
      "cell_type": "code",
      "source": [
        "# example for a single dict's 'body' content\n",
        "BeautifulSoup(data2[0]['body'].replace('<br><b>', '. ').replace('. <br><br>', '. ').replace('.<br><br>', '. ').replace('<br><br>', '. '), 'html.parser').text"
      ],
      "metadata": {
        "colab": {
          "base_uri": "https://localhost:8080/",
          "height": 143
        },
        "id": "xw0ZcfTCLh-b",
        "outputId": "aa968e0f-fe4b-40d9-fe1b-83d5f6db020a"
      },
      "execution_count": 16,
      "outputs": [
        {
          "output_type": "execute_result",
          "data": {
            "text/plain": [
              "'Serbia: SMS Guidelines\\nMCC: 220. Dial Code: 381. Alphanumeric Sender IDs are supported with registration. Registration is possible to ensure Alphanumeric Senders can be maintained. Without registration, Alpha Senders will be overwritten to Generic Alpha Sender IDs. The registration of Alphanumeric Senders involves monthly fees. Please make sure to always refer to our Acceptable Use Policy for Messaging. For more information on Alpha Sender ID registration kindly reach out to alpha_sender_id@telnyx.com. '"
            ],
            "application/vnd.google.colaboratory.intrinsic+json": {
              "type": "string"
            }
          },
          "metadata": {},
          "execution_count": 16
        }
      ]
    },
    {
      "cell_type": "code",
      "source": [
        "# remove html from all 'body' content\n",
        "for state in data2:\n",
        "  state['body'] = BeautifulSoup(state['body'].replace('<br><b>', '. ').replace('. <br><br>', '. ').replace('.<br><br>', '. ').replace('<br><br>', '. '), 'html.parser').text"
      ],
      "metadata": {
        "id": "UaZFyxAzLw8k"
      },
      "execution_count": 17,
      "outputs": []
    },
    {
      "cell_type": "code",
      "source": [
        "# save the updated json file\n",
        "with open('documentation3.json', 'w') as outfile:\n",
        "    json.dump(data2, outfile, indent=4)"
      ],
      "metadata": {
        "id": "kIOwslohL61h"
      },
      "execution_count": 18,
      "outputs": []
    },
    {
      "cell_type": "code",
      "source": [
        "# double check the new file\n",
        "with open('documentation3.json') as f:\n",
        "  data3 = json.load(f)"
      ],
      "metadata": {
        "id": "8QiWDyVVMC3r"
      },
      "execution_count": 19,
      "outputs": []
    },
    {
      "cell_type": "code",
      "source": [
        "print(data3)"
      ],
      "metadata": {
        "colab": {
          "base_uri": "https://localhost:8080/"
        },
        "id": "7VwdCicJMH2e",
        "outputId": "dc741409-cde1-408e-e832-c985ab3a44dc"
      },
      "execution_count": 20,
      "outputs": [
        {
          "output_type": "stream",
          "name": "stdout",
          "text": [
            "[{'id': '6683745', 'title': 'Serbia: SMS Guidelines', 'body': 'Serbia: SMS Guidelines\\nMCC: 220. Dial Code: 381. Alphanumeric Sender IDs are supported with registration. Registration is possible to ensure Alphanumeric Senders can be maintained. Without registration, Alpha Senders will be overwritten to Generic Alpha Sender IDs. The registration of Alphanumeric Senders involves monthly fees. Please make sure to always refer to our Acceptable Use Policy for Messaging. For more information on Alpha Sender ID registration kindly reach out to alpha_sender_id@telnyx.com. ', 'url': 'https://support.telnyx.com/en/articles/6683745-serbia-sms-guidelines'}, {'id': '6683734', 'title': 'Republic of Korea (South Korea): SMS Guidelines', 'body': 'Republic of Korea (South Korea): SMS Guidelines\\nMCC: 450. Dial Code: 82. Alphanumeric Sender IDs are not supported. Registration is not possible.\\n\\nAll Alphanumeric Sender IDs will be overwritten to a random Local Long Code  to ensure delivery. All messages to this destination will have the following text added by default:. [Web 발신] : This indicates A2P traffic[국제발신]: This indicates that the message has been sent from abroad. Gambling and Adult content is not permitted. Please make sure to always refer to our Acceptable Use Policy for Messaging.', 'url': 'https://support.telnyx.com/en/articles/6683734-republic-of-korea-south-korea-sms-guidelines'}, {'id': '6683726', 'title': 'Kiribati: SMS Guidelines', 'body': 'Kiribati: SMS Guidelines\\nMCC: 545. Dial Code: 686. Alphanumeric Sender IDs are supported and will be maintained, no registration is required.\\n\\nThere are no restrictions with regards to content towards this destination.\\n\\nPlease make sure to always refer to our Acceptable Use Policy for Messaging.', 'url': 'https://support.telnyx.com/en/articles/6683726-kiribati-sms-guidelines'}, {'id': '6683504', 'title': 'Zimbabwe: SMS Guidelines', 'body': 'Zimbabwe: SMS Guidelines\\nMCC: 648. Dial Code: 263. Alphanumeric Sender IDs are supported. There is a distinction between Local and International traffic. For local traffic, Alphanumeric Sender IDs are only supported through registration. International traffic does not require registration. Alphanumeric Senders will be supported. The use of generic Alpha Sender IDs is not recommended. Alpha Senders should be directly related to the message content. Please make sure to always refer to our Acceptable Use Policy for Messaging. For more information on Alpha Sender ID registration kindly reach out to alpha_sender_id@telnyx.com. ', 'url': 'https://support.telnyx.com/en/articles/6683504-zimbabwe-sms-guidelines'}, {'id': '6683501', 'title': 'Zambia: SMS Guidelines', 'body': 'Zambia: SMS Guidelines\\nMCC: 645. Dial Code: 260. Alphanumeric Sender IDs are supported. For Network MTN (65402) Alphanumeric Sender IDs are only supported with registration. Without registration to this network, Alpha Senders will be overwritten to Generic Alpha Sender IDs or will NOT deliver. The use of generic Alpha Sender IDs is not recommended. Alpha Senders should be directly related to the message content. Please make sure to always refer to our Acceptable Use Policy for Messaging. For more information on Alpha Sender ID registration kindly reach out to alpha_sender_id@telnyx.com. . ', 'url': 'https://support.telnyx.com/en/articles/6683501-zambia-sms-guidelines'}, {'id': '6683484', 'title': 'Yemen: SMS Guidelines', 'body': 'MCC: 421. Dial Code: 998. Alphanumeric Sender IDs are supported. No registration is required. Occasionally Alphanumeric Sender ID might be overwritten to Random Short Code to ensure delivery. Please make sure to always refer to our Acceptable Use Policy for Messaging.', 'url': 'https://support.telnyx.com/en/articles/6683484-yemen-sms-guidelines'}, {'id': '6683477', 'title': 'Virgin Islands (British): SMS Guidelines', 'body': 'Virgin Islands (British): SMS Guidelines\\nMCC: 348. Dial Code: 1340. Alphanumeric Sender IDs are supported and will be maintained, no registration is required.\\n\\nThere are no restrictions with regards to content towards this destination.\\n\\nPlease make sure to always refer to our Acceptable Use Policy for Messaging.', 'url': 'https://support.telnyx.com/en/articles/6683477-virgin-islands-british-sms-guidelines'}, {'id': '6683467', 'title': 'Vietnam: SMS Guidelines', 'body': 'Vietnam: SMS Guidelines\\nMCC: 452. Dial Code: 84. Alphanumeric Sender IDs are supported with registration. Alphanumeric Sender ID registration is required. The use of generic Alpha Sender IDs is not recommended. Alpha Senders should be directly related to the message content. Vietnam is a destination that supports SMSC-DLR only, as such positive DLRs are to be expected. Handset delivery reports are not possible. Please make sure to always refer to our Acceptable Use Policy for Messaging. For more information on Alpha Sender ID registration kindly reach out to alpha_sender_id@telnyx.com.', 'url': 'https://support.telnyx.com/en/articles/6683467-vietnam-sms-guidelines'}, {'id': '6683459', 'title': 'Vanuatu: SMS Guidelines', 'body': 'Vanuatu: SMS Guidelines\\nMCC: 541. Dial Code: 678. Alphanumeric Sender IDs are supported and will be maintained, no registration is required.\\n\\nThere are no restrictions with regards to content towards this destination.\\n\\nPlease make sure to always refer to our Acceptable Use Policy for Messaging.', 'url': 'https://support.telnyx.com/en/articles/6683459-vanuatu-sms-guidelines'}, {'id': '6683454', 'title': 'Uzbekistan: SMS Guidelines', 'body': 'Uzbekistan: SMS Guidelines\\nMCC: 434. Dial Code: 998. Alphanumeric Sender IDs are supported. No registration is required. Occasionally Alphanumeric Sender ID might be overwritten to Random Short Code to ensure delivery. Please make sure to always refer to our Acceptable Use Policy for Messaging.', 'url': 'https://support.telnyx.com/en/articles/6683454-uzbekistan-sms-guidelines'}, {'id': '6683438', 'title': 'United Arab Emirates: SMS Guidelines', 'body': 'United Arab Emirates: SMS Guidelines\\nMCC: 424. Dial Code: 971. Alphanumeric Sender IDs are supported with registration. Alphanumeric Sender ID registration is required. For promotional traffic, the suffix \"AD\" must be added to the Alphanumeric Sender for traffic distinction. Promotional traffic is not allowed between 09:00 pm and 07:00 local time, all traffic submitted during this time window will be queued and delivery will be attempted outside the time period. Religious,  gambling political or adult traffic is prohibited. The use of generic Alpha Sender IDs is not recommended. Alpha Senders should be directly related to the message content. Please make sure to always refer to our Acceptable Use Policy for Messaging. For more information on Alpha Sender ID registration kindly reach out to alpha_sender_id@telnyx.com. ', 'url': 'https://support.telnyx.com/en/articles/6683438-united-arab-emirates-sms-guidelines'}, {'id': '6683433', 'title': 'Uganda: SMS Guidelines', 'body': 'MCC: 641. Dial Code: 256. Alphanumeric Sender IDs are supported. For Network MTN (64110) Alphanumeric Sender IDs are only supported with registration. Without registration to this network, Alpha Senders will be overwritten to Generic Alpha Sender IDs or will NOT deliver. The use of generic Alpha Sender IDs is not recommended. Alpha Senders should be directly related to the message content. Please make sure to always refer to our Acceptable Use Policy for Messaging. For more information on Alpha Sender ID registration kindly reach out to alpha_sender_id@telnyx.com. ', 'url': 'https://support.telnyx.com/en/articles/6683433-uganda-sms-guidelines'}, {'id': '6683429', 'title': 'Tuvalu: SMS Guidelines', 'body': 'Tuvalu: SMS Guidelines\\nMCC: 553. Dial Code: 688. Alphanumeric Sender IDs are supported and will be maintained, no registration is required.\\n\\nThere are no restrictions with regards to content towards this destination.\\n\\nPlease make sure to always refer to our Acceptable Use Policy for Messaging. ', 'url': 'https://support.telnyx.com/en/articles/6683429-tuvalu-sms-guidelines'}, {'id': '6683396', 'title': 'Turks and Caicos Islands: SMS Guidelines', 'body': 'MCC: 376. Dial Code: 1649. Alphanumeric Sender IDs are supported and will be maintained, no registration is required.\\n\\nThere are no restrictions with regards to content towards this destination.\\n\\nPlease make sure to always refer to our Acceptable Use Policy for Messaging.', 'url': 'https://support.telnyx.com/en/articles/6683396-turks-and-caicos-islands-sms-guidelines'}, {'id': '6683390', 'title': 'Turkmenistan: SMS Guidelines', 'body': 'MCC: 438. Dial Code: 993. Alphanumeric Sender IDs are not supported. Registration is not possible.\\n\\nAll Alphanumeric Sender IDs will be overwritten to either a random Long Code or Generic Alphanumeric Sender ID to ensure delivery. Please make sure to always refer to our Acceptable Use Policy for Messaging.', 'url': 'https://support.telnyx.com/en/articles/6683390-turkmenistan-sms-guidelines'}, {'id': '6683385', 'title': 'Tunisia: SMS Guidelines', 'body': 'Tunisia: SMS Guidelines\\nMCC: 605. Dial Code: 216. Alphanumeric Sender IDs are supported and will be maintained, no registration is required.\\n\\nThe use of generic Alpha Sender IDs is not recommended. Alpha Senders should be directly related to the message content.\\n\\nPlease make sure to always refer to our Acceptable Use Policy for Messaging.', 'url': 'https://support.telnyx.com/en/articles/6683385-tunisia-sms-guidelines'}, {'id': '6683379', 'title': 'Trinidad & Tobago: SMS Guidelines', 'body': 'Trinidad & Tobago: SMS Guidelines\\nMCC: 374. Dial Code: 1868. Alphanumeric Sender IDs are supported. No registration is required. Occasionally Alphanumeric Sender ID might be overwritten to Random Long Code to ensure delivery towards Network Bmobile (37412). Please make sure to always refer to our Acceptable Use Policy for Messaging.', 'url': 'https://support.telnyx.com/en/articles/6683379-trinidad-tobago-sms-guidelines'}, {'id': '6683365', 'title': 'Tonga: SMS Guidelines', 'body': 'Tonga: SMS Guidelines\\nMCC: 539. Dial Code: 676. Alphanumeric Sender IDs are supported and will be maintained, no registration is required.\\n\\nThere are no restrictions with regards to content towards this destination.\\n\\nPlease make sure to always refer to our Acceptable Use Policy for Messaging.', 'url': 'https://support.telnyx.com/en/articles/6683365-tonga-sms-guidelines'}, {'id': '6683355', 'title': 'Togo: SMS Guidelines', 'body': 'Togo: SMS Guidelines\\nMCC: 615. Dial Code: 228. Alphanumeric Sender IDs are supported and will be maintained, no registration is required.\\n\\nThere are no restrictions with regards to content towards this destination.\\n\\nPlease make sure to always refer to our Acceptable Use Policy for Messaging.', 'url': 'https://support.telnyx.com/en/articles/6683355-togo-sms-guidelines'}, {'id': '6683340', 'title': 'Timor-Leste: SMS Guidelines', 'body': 'Timor-Leste: SMS Guidelines\\nMCC: 514. Dial Code: 670. Alphanumeric Sender IDs are supported. No registration is required. Occasionally Alphanumeric Sender ID might be overwritten to Random Short Code to ensure delivery. Please make sure to always refer to our Acceptable Use Policy for Messaging.', 'url': 'https://support.telnyx.com/en/articles/6683340-timor-leste-sms-guidelines'}, {'id': '6683302', 'title': 'Thailand: SMS Guidelines', 'body': 'Thailand: SMS Guidelines\\nMCC: 520. Dial Code: 66. Alphanumeric Sender IDs are supported with registration. Alphanumeric Sender ID registration is required. Please make sure to always refer to our Acceptable Use Policy for Messaging. For more information on Alpha Sender ID registration kindly reach out to alpha_sender_id@telnyx.com.', 'url': 'https://support.telnyx.com/en/articles/6683302-thailand-sms-guidelines'}, {'id': '6683295', 'title': 'Tanzania: SMS Guidelines', 'body': 'Tanzania: SMS Guidelines\\nMCC: 640. Dial Code: 255. Alphanumeric Sender IDs are supported with registration. Alphanumeric Sender ID registration is required. Please make sure to always refer to our Acceptable Use Policy for Messaging. For more information on Alpha Sender ID registration kindly reach out to alpha_sender_id@telnyx.com.', 'url': 'https://support.telnyx.com/en/articles/6683295-tanzania-sms-guidelines'}, {'id': '6683287', 'title': 'Tajikistan: SMS Guidelines', 'body': 'Tajikistan: SMS Guidelines\\nMCC: 436. Dial Code: 992. Alphanumeric Sender IDs are supported and will be maintained, no registration is required.\\n\\nThere are no restrictions with regards to content towards this destination.\\n\\nPlease make sure to always refer to our Acceptable Use Policy for Messaging.', 'url': 'https://support.telnyx.com/en/articles/6683287-tajikistan-sms-guidelines'}, {'id': '6683277', 'title': 'Taiwan: SMS Guidelines', 'body': 'Taiwan: SMS Guidelines\\nMCC: 466. Dial Code: 886. Alphanumeric Sender IDs are not supported. Registration is not possible.\\n\\nAll Alphanumeric Sender IDs will be overwritten to a random Local Long Code to ensure delivery. Please make sure to always refer to our Acceptable Use Policy for Messaging.', 'url': 'https://support.telnyx.com/en/articles/6683277-taiwan-sms-guidelines'}, {'id': '6680256', 'title': 'Syria: SMS Guidelines', 'body': 'MCC: 417. Dial Code: 963. Alphanumeric Sender IDs are not supported. Registration is not possible.\\n\\nAll Alphanumeric Sender IDs will be overwritten to a random Long Code to ensure delivery. Please make sure to always refer to our Acceptable Use Policy for Messaging.', 'url': 'https://support.telnyx.com/en/articles/6680256-syria-sms-guidelines'}, {'id': '6680225', 'title': 'Sudan: SMS Guidelines', 'body': 'Sudan: SMS Guidelines\\nMCC: 634. Dial Code: 249. Alphanumeric Sender IDs are supported. For Network MTN (63402) Alphanumeric Sender IDs are only supported with registration. Without registration to this network, Alpha Senders will be overwritten to Generic Alpha Sender IDs or will NOT deliver. The use of generic Alpha Sender IDs is not recommended. Alpha Senders should be directly related to the message content. Please make sure to always refer to our Acceptable Use Policy for Messaging. For more information on Alpha Sender ID registration kindly reach out to alpha_sender_id@telnyx.com. ', 'url': 'https://support.telnyx.com/en/articles/6680225-sudan-sms-guidelines'}, {'id': '6680171', 'title': 'Sri Lanka: SMS Guidelines', 'body': 'Sri Lanka: SMS Guidelines\\nMCC: 413. Dial Code: 94. Alphanumeric Sender IDs are supported. For Networks Dialog (41302) and Mobitel (41301) Alphanumeric Sender IDs are only supported with registration. Network Mobitel (41301) only allows OTP, transactional traffic. Messages carrying non-OTP traffic will be rejected by the Network. The use of generic Alpha Sender IDs is not recommended. Alpha Senders should be directly related to the message content. Please make sure to always refer to our Acceptable Use Policy for Messaging. For more information on Alpha Sender ID registration kindly reach out to alpha_sender_id@telnyx.com.', 'url': 'https://support.telnyx.com/en/articles/6680171-sri-lanka-sms-guidelines'}, {'id': '6680141', 'title': 'South Sudan: SMS Guidelines', 'body': 'South Sudan: SMS Guidelines\\nMCC: 659. Dial Code: 211. Alphanumeric Sender IDs are supported. For Network MTN (65902) Alphanumeric Sender IDs are only supported with registration. Without registration to this network, Alpha Senders will be overwritten to Generic Alpha Sender IDs or will NOT deliver. The use of generic Alpha Sender IDs is not recommended. Alpha Senders should be directly related to the message content. Please make sure to always refer to our Acceptable Use Policy for Messaging. For more information on Alpha Sender ID registration kindly reach out to alpha_sender_id@telnyx.com.', 'url': 'https://support.telnyx.com/en/articles/6680141-south-sudan-sms-guidelines'}, {'id': '6680135', 'title': 'Somalia: SMS Guidelines', 'body': 'Somalia: SMS Guidelines\\nMCC: 637. Dial Code: 252. Alphanumeric Sender IDs are supported and will be maintained, no registration is required. The use of generic Alpha Sender IDs is not recommended. Alpha Senders should be directly related to the message content. Please make sure to always refer to our Acceptable Use Policy for Messaging.', 'url': 'https://support.telnyx.com/en/articles/6680135-somalia-sms-guidelines'}, {'id': '6680123', 'title': 'Solomon Islands: SMS Guidelines', 'body': 'Solomon Islands: SMS Guidelines\\nMCC: 540. Dial Code: 677. Alphanumeric Sender IDs are supported and will be maintained, no registration is required.\\n\\nThere are no restrictions with regards to content towards this destination.\\n\\nPlease make sure to always refer to our Acceptable Use Policy for Messaging. ', 'url': 'https://support.telnyx.com/en/articles/6680123-solomon-islands-sms-guidelines'}, {'id': '6680109', 'title': 'Slovakia: SMS Guidelines', 'body': 'Slovakia: SMS Guidelines\\nMCC: 231. Dial Code: 421. Alphanumeric Sender IDs are supported and will be maintained, no registration is required.\\n\\nThere are no restrictions with regards to content towards this destination.\\n\\nPlease make sure to always refer to our Acceptable Use Policy for Messaging.', 'url': 'https://support.telnyx.com/en/articles/6680109-slovakia-sms-guidelines'}, {'id': '6680103', 'title': 'Singapore: SMS Guidelines', 'body': 'MCC: 525. Dial Code: 65. Mandatory registration of Alphanumeric Sender IDs has been implemented by the Infocomm Media Development Authority (IMDA) since January 31st, 2023. From this date and until July 31st, 2023, all submissions with un-registered Alphanumeric Sender IDs will be flagged and overwritten with \"Likely-SCAM\". After July 31st, 2023, messages with un-registered Alphanumeric Sender IDs will be blocked. Kindly note that the registration of Alphanumeric Senders involves fees. \\nPlease make sure to always refer to our Acceptable Use Policy for Messaging. For more information on Alphanumeric Sender ID registration kindly reach out to alpha_sender_id@telnyx.com. ', 'url': 'https://support.telnyx.com/en/articles/6680103-singapore-sms-guidelines'}, {'id': '6680089', 'title': 'Sierra Leone: SMS Guidelines', 'body': 'MCC: 619. Dial Code: 232. Alphanumeric Sender IDs are supported and will be maintained, no registration is required. The use of generic Alpha Sender IDs is not recommended. Alpha Senders should be directly related to the message content. Please make sure to always refer to our Acceptable Use Policy for Messaging.', 'url': 'https://support.telnyx.com/en/articles/6680089-sierra-leone-sms-guidelines'}, {'id': '6680053', 'title': 'Seychelles: SMS Guidelines', 'body': 'Seychelles: SMS Guidelines\\nMCC: 633. Dial Code: 248. Alphanumeric Sender IDs are supported and will be maintained, no registration is required.\\n\\nThere are no restrictions with regards to content towards this destination.\\n\\nPlease make sure to always refer to our Acceptable Use Policy for Messaging.', 'url': 'https://support.telnyx.com/en/articles/6680053-seychelles-sms-guidelines'}, {'id': '6680041', 'title': 'Senegal: SMS Guidelines', 'body': 'Senegal: SMS Guidelines\\nMCC: 608. Dial Code: 221. Alphanumeric Sender IDs are supported and will be maintained, no registration is required. The use of generic Alpha Sender IDs is not recommended. Alpha Senders should be directly related to the message content. Please make sure to always refer to our Acceptable Use Policy for Messaging.', 'url': 'https://support.telnyx.com/en/articles/6680041-senegal-sms-guidelines'}, {'id': '6680009', 'title': 'Saudi Arabia: SMS Guidelines', 'body': 'Saudi Arabia: SMS Guidelines\\nMCC: 420. Dial Code: 966. Alphanumeric Sender IDs are supported with registration. Alphanumeric Sender ID registration is required. Registration is only possible for International Brands. For promotional traffic, the suffix \"AD\" must be added to the Alphanumeric Sender for traffic distinction. If message content includes URLs, these must also be whitelisted as part of the Alphanumeric Sender ID registration process. The use of shortened URL links (bit links) is not allowed. Gambling, political or adult traffic is prohibited. Please make sure to always refer to our Acceptable Use Policy for Messaging. For more information on Alpha Sender ID registration kindly reach out to alpha_sender_id@telnyx.com. . ', 'url': 'https://support.telnyx.com/en/articles/6680009-saudi-arabia-sms-guidelines'}, {'id': '6680003', 'title': 'Sao Tome and Principe: SMS Guidelines', 'body': 'Sao Tome and Principe: SMS Guidelines\\nMCC: 626. Dial Code: 239. Alphanumeric Sender IDs are supported and will be maintained, no registration is required.\\n\\nThere are no restrictions with regards to content towards this destination.\\n\\nPlease make sure to always refer to our Acceptable Use Policy for Messaging.', 'url': 'https://support.telnyx.com/en/articles/6680003-sao-tome-and-principe-sms-guidelines'}, {'id': '6679992', 'title': 'San Marino: SMS Guidelines', 'body': 'San Marino: SMS Guidelines\\nMCC: 292. Dial Code: 378. Alphanumeric Sender IDs are supported and will be maintained, no registration is required.\\n\\nThere are no restrictions with regards to content towards this destination.\\n\\nPlease make sure to always refer to our Acceptable Use Policy for Messaging.', 'url': 'https://support.telnyx.com/en/articles/6679992-san-marino-sms-guidelines'}, {'id': '6679451', 'title': 'Samoa: SMS Guidelines', 'body': 'Samoa: SMS Guidelines\\nMCC: 549. Dial Code: 685. Alphanumeric Sender IDs are supported and will be maintained, no registration is required.\\n\\nThere are no restrictions with regards to content towards this destination.\\n\\nPlease make sure to always refer to our Acceptable Use Policy for Messaging. ', 'url': 'https://support.telnyx.com/en/articles/6679451-samoa-sms-guidelines'}, {'id': '6679448', 'title': 'Saint Vincent and the Grenadines: SMS Guidelines', 'body': 'Saint Vincent and the Grenadines: SMS Guidelines\\nMCC: 360. Dial Code: 1784. Alphanumeric Sender IDs are supported and will be maintained, no registration is required.\\n\\nThere are no restrictions with regards to content towards this destination.\\n\\nPlease make sure to always refer to our Acceptable Use Policy for Messaging.', 'url': 'https://support.telnyx.com/en/articles/6679448-saint-vincent-and-the-grenadines-sms-guidelines'}, {'id': '6679441', 'title': 'Saint Pierre and Miquelon: SMS Guidelines', 'body': 'Saint Pierre and Miquelon: SMS Guidelines\\nMCC: 308. Dial Code: 508. Alphanumeric Sender IDs are supported and will be maintained, no registration is required.\\n\\nThere are no restrictions with regards to content towards this destination.\\n\\nPlease make sure to always refer to our Acceptable Use Policy for Messaging.', 'url': 'https://support.telnyx.com/en/articles/6679441-saint-pierre-and-miquelon-sms-guidelines'}, {'id': '6679439', 'title': 'Saint Lucia: SMS Guidelines', 'body': 'Saint Lucia: SMS Guidelines\\nMCC: 358. Dial Code: 1758. Alphanumeric Sender IDs are supported and will be maintained, no registration is required.\\n\\nThere are no restrictions with regards to content towards this destination.\\n\\nPlease make sure to always refer to our Acceptable Use Policy for Messaging. ', 'url': 'https://support.telnyx.com/en/articles/6679439-saint-lucia-sms-guidelines'}, {'id': '6679419', 'title': 'Saint Kitts & Nevis: SMS Guidelines', 'body': 'MCC: 356. Dial Code: 1869. Alphanumeric Sender IDs are supported and will be maintained, no registration is required.\\n\\nThere are no restrictions with regards to content towards this destination.\\n\\nPlease make sure to always refer to our Acceptable Use Policy for Messaging.', 'url': 'https://support.telnyx.com/en/articles/6679419-saint-kitts-nevis-sms-guidelines'}, {'id': '6679407', 'title': 'Rwanda: SMS Guidelines', 'body': 'Rwanda: SMS Guidelines\\nMCC: 635. Dial Code: 250. Alphanumeric Sender IDs are supported. For Network MTN (63510) Alphanumeric Sender IDs are only supported with registration. Without registration to this network, Alpha Senders will be overwritten to Generic Alpha Sender IDs or will NOT deliver. The use of generic Alpha Sender IDs is not recommended. Alpha Senders should be directly related to the message content. Please make sure to always refer to our Acceptable Use Policy for Messaging. For more information on Alpha Sender ID registration kindly reach out to alpha_sender_id@telnyx.com.', 'url': 'https://support.telnyx.com/en/articles/6679407-rwanda-sms-guidelines'}, {'id': '6679378', 'title': 'Reunion: SMS Guidelines', 'body': 'Reunion: SMS Guidelines\\nMCC: 647. Dial Code: 262. Alphanumeric Sender IDs are supported and will be maintained, no registration is required.\\n\\nThere are no restrictions with regards to content towards this destination.\\n\\nPlease make sure to always refer to our Acceptable Use Policy for Messaging.', 'url': 'https://support.telnyx.com/en/articles/6679378-reunion-sms-guidelines'}, {'id': '6679369', 'title': 'Qatar: SMS Guidelines', 'body': 'Qatar: SMS Guidelines\\nMCC: 427. Dial Code: 974. Alphanumeric Sender IDs are supported with registration. Alphanumeric Sender ID registration is required. The use of generic Alpha Sender IDs is not recommended. Alpha Senders should be directly related to the message content. Religious, political or adult traffic is prohibited. Please make sure to always refer to our Acceptable Use Policy for Messaging. For more information on Alpha Sender ID registration kindly reach out to alpha_sender_id@telnyx.com. ', 'url': 'https://support.telnyx.com/en/articles/6679369-qatar-sms-guidelines'}, {'id': '6679279', 'title': 'Papua New Guinea: SMS Guidelines', 'body': 'Papua New Guinea: SMS Guidelines\\nMCC: 537. Dial Code: 675. Alphanumeric Sender IDs are supported and will be maintained, no registration is required.\\n\\nThere are no restrictions with regards to content towards this destination.\\n\\nPlease make sure to always refer to our Acceptable Use Policy for Messaging.', 'url': 'https://support.telnyx.com/en/articles/6679279-papua-new-guinea-sms-guidelines'}, {'id': '6679259', 'title': 'Palestinian Territory: SMS Guidelines', 'body': 'MCC: 425. Dial Code: 970. Alphanumeric Sender IDs are supported. There is a distinction between Local and International traffic. For local traffic, Alphanumeric Sender IDs are only supported through registration. International traffic does not require registration. Alphanumeric Senders will be supported. Personal Loans, gambling, adult and cryptocurrency related traffic is prohibited. Please make sure to always refer to our Acceptable Use Policy for Messaging. For more information on Alpha Sender ID registration kindly reach out to alpha_sender_id@telnyx.com. ', 'url': 'https://support.telnyx.com/en/articles/6679259-palestinian-territory-sms-guidelines'}, {'id': '6679161', 'title': 'Palau: SMS Guidelines', 'body': 'MCC: 552. Dial Code: 680. Alphanumeric Sender IDs are supported and will be maintained, no registration is required.\\n\\nThere are no restrictions with regards to content towards this destination.\\n\\nPlease make sure to always refer to our Acceptable Use Policy for Messaging. ', 'url': 'https://support.telnyx.com/en/articles/6679161-palau-sms-guidelines'}, {'id': '6679149', 'title': 'Pakistan: SMS Guidelines', 'body': 'Pakistan: SMS Guidelines\\nMCC: 410. Dial Code: 92. Alphanumeric Sender IDs are supported with registration. Alphanumeric Sender ID registration is required. Gambling related traffic is not permitted. Please make sure to always refer to our Acceptable Use Policy for Messaging. For more information on Alpha Sender ID registration kindly reach out to alpha_sender_id@telnyx.com.', 'url': 'https://support.telnyx.com/en/articles/6679149-pakistan-sms-guidelines'}, {'id': '6679138', 'title': 'Oman: SMS Guidelines', 'body': 'Oman: SMS Guidelines\\nMCC: 422. Dial Code: 968. Alphanumeric Sender IDs are supported with registration. Alphanumeric Sender ID registration is required. Non-registered Alpha Sender IDs will either be rejected or overwritten. However this is on best-effort basis. The use of generic Alpha Sender IDs is not recommended. Alpha Senders should be directly related to the message content. Please make sure to always refer to our Acceptable Use Policy for Messaging. For more information on Alpha Sender ID registration kindly reach out to alpha_sender_id@telnyx.com. ', 'url': 'https://support.telnyx.com/en/articles/6679138-oman-sms-guidelines'}, {'id': '6679129', 'title': 'Norfolk Island: SMS Guidelines', 'body': 'Norfolk Island: SMS Guidelines\\nMCC: 505. Dial Code: 672. Alphanumeric Sender IDs are supported and will be maintained, no registration is required.\\n\\nThere are no restrictions with regards to content towards this destination.\\n\\nPlease make sure to always refer to our Acceptable Use Policy for Messaging.', 'url': 'https://support.telnyx.com/en/articles/6679129-norfolk-island-sms-guidelines'}, {'id': '6679084', 'title': 'Nigeria: SMS Guidelines', 'body': 'Nigeria: SMS Guidelines\\nMCC: 621. Dial Code: 234. Alphanumeric Sender IDs are supported. For Network MTN (62130) Alphanumeric Sender IDs are only supported with registration. Without registration to this network, Alpha Senders will be overwritten to Generic Alpha Sender IDs or will NOT deliver. The use of generic Alpha Sender IDs is not recommended. Alpha Senders should be directly related to the message content. Please make sure to always refer to our Acceptable Use Policy for Messaging. For more information on Alpha Sender ID registration kindly reach out to alpha_sender_id@telnyx.com. ', 'url': 'https://support.telnyx.com/en/articles/6679084-nigeria-sms-guidelines'}, {'id': '6679062', 'title': 'Niger: SMS Guidelines', 'body': 'Niger: SMS Guidelines\\nMCC: 614. Dial Code: 227. Alphanumeric Sender IDs are supported. There is a distinction between Local and International traffic. For local traffic, Alphanumeric Sender IDs are only supported through registration. International traffic does not require registration. Alphanumeric Senders will be supported. Please make sure to always refer to our Acceptable Use Policy for Messaging. For more information on Alpha Sender ID registration kindly reach out to alpha_sender_id@telnyx.com.', 'url': 'https://support.telnyx.com/en/articles/6679062-niger-sms-guidelines'}, {'id': '6679036', 'title': 'New Zealand: SMS Guidelines', 'body': 'New Zealand: SMS Guidelines\\nMCC: 530. Dial Code: 64. Alphanumeric Sender IDs are not supported. Registration is not possible.\\n\\nAll Alphanumeric Sender IDs will be overwritten to a random Short Code to ensure delivery. Due to local restrictions, dedicated short codes are the best way to improve delivery towards this destination. Without a dedicated short code, message delivery is to be considered as best-effort delivery only. Please make sure to always refer to our Acceptable Use Policy for Messaging. ', 'url': 'https://support.telnyx.com/en/articles/6679036-new-zealand-sms-guidelines'}, {'id': '6679031', 'title': 'New Caledonia: SMS Guidelines', 'body': 'New Caledonia: SMS Guidelines\\nMCC: 546. Dial Code: 687. Alphanumeric Sender IDs are supported and will be maintained, no registration is required.\\n\\nThere are no restrictions with regards to content towards this destination.\\n\\nPlease make sure to always refer to our Acceptable Use Policy for Messaging. ', 'url': 'https://support.telnyx.com/en/articles/6679031-new-caledonia-sms-guidelines'}, {'id': '6678949', 'title': 'Netherlands Antilles: SMS Guidelines', 'body': 'Netherlands Antilles: SMS Guidelines\\nMCC: 362. Dial Code: 599. Alphanumeric Sender IDs are supported and will be maintained, no registration is required.\\n\\nThere are no restrictions with regards to content towards this destination.\\n\\nPlease make sure to always refer to our Acceptable Use Policy for Messaging. . ', 'url': 'https://support.telnyx.com/en/articles/6678949-netherlands-antilles-sms-guidelines'}, {'id': '6678903', 'title': 'Nepal: SMS Guidelines', 'body': 'Nepal: SMS Guidelines\\nNepal: SMS Guidelines\\nMCC: 429. Dial Code: 977. Alphanumeric Sender IDs are supported. For Network Ncell (42902) Alphanumeric Sender IDs are only supported with registration. Without registration to this network, Alpha Senders will be overwritten to Generic Alpha Sender IDs or will NOT deliver. The use of generic Alpha Sender IDs is not recommended. Alpha Senders should be directly related to the message content. Please make sure to always refer to our Acceptable Use Policy for Messaging. For more information on Alpha Sender ID registration kindly reach out to alpha_sender_id@telnyx.com.', 'url': 'https://support.telnyx.com/en/articles/6678903-nepal-sms-guidelines'}, {'id': '6678890', 'title': 'Namibia: SMS Guidelines', 'body': 'MCC: 649. Dial Code: 264. Alphanumeric Sender IDs are supported and will be maintained, no registration is required.\\nOccasionally Alphanumeric Sender IDs might be replaced by Generic Alphanumeric Sender ID to ensure delivery. \\nThere are no restrictions with regards to content towards this destination.\\n\\nPlease make sure to always refer to our Acceptable Use Policy for Messaging.', 'url': 'https://support.telnyx.com/en/articles/6678890-namibia-sms-guidelines'}, {'id': '6678010', 'title': 'Myanmar: SMS Guidelines', 'body': 'MCC: 414. Dial Code: 95. Alphanumeric Sender IDs are supported with registration. Alphanumeric Sender ID registration is required. Please make sure to always refer to our Acceptable Use Policy for Messaging. For more information on Alpha Sender ID registration kindly reach out to alpha_sender_id@telnyx.com.', 'url': 'https://support.telnyx.com/en/articles/6678010-myanmar-sms-guidelines'}, {'id': '6677999', 'title': 'Mozambique: SMS Guidelines', 'body': 'MCC: 643. Dial Code: 258. Alphanumeric Sender IDs are supported. Occasionally Alpha Sender ID might be replaced by Generic Alpha Sender ID towards Network Movitel (64303) to ensure delivery. There are no restrictions with regards to content towards this destination. Please make sure to always refer to our Acceptable Use Policy for Messaging. For more information on Alpha Sender ID registration kindly reach out to alpha_sender_id@telnyx.com. ', 'url': 'https://support.telnyx.com/en/articles/6677999-mozambique-sms-guidelines'}, {'id': '6677982', 'title': 'Morocco: SMS Guidelines', 'body': 'Morocco: SMS Guidelines\\nMCC: 604. Dial Code: 212. Alphanumeric Sender IDs are supported with registration. Alphanumeric Sender ID registration is required. Please make sure to always refer to our Acceptable Use Policy for Messaging. For more information on Alpha Sender ID registration kindly reach out to alpha_sender_id@telnyx.com.', 'url': 'https://support.telnyx.com/en/articles/6677982-morocco-sms-guidelines'}, {'id': '6677968', 'title': 'Montserrat: SMS Guidelines', 'body': 'MCC: 354. Dial Code: 1664. Alphanumeric Sender IDs are supported and will be maintained, no registration is required.\\n\\nThere are no restrictions with regards to content towards this destination.\\n\\nPlease make sure to always refer to our Acceptable Use Policy for Messaging.', 'url': 'https://support.telnyx.com/en/articles/6677968-montserrat-sms-guidelines'}, {'id': '6677964', 'title': 'Montenegro: SMS Guidelines', 'body': 'Montenegro: SMS Guidelines\\nMCC: 297. Dial Code: 382. Alphanumeric Sender IDs are supported and will be maintained, no registration is required.\\n\\nThere are no restrictions with regards to content towards this destination.\\n\\nPlease make sure to always refer to our Acceptable Use Policy for Messaging.', 'url': 'https://support.telnyx.com/en/articles/6677964-montenegro-sms-guidelines'}, {'id': '6677958', 'title': 'Mongolia: SMS Guidelines', 'body': 'MCC: 428. Dial Code: 976. Alphanumeric Sender IDs are supported and will be maintained, no registration is required.\\n\\nThere are no restrictions with regards to content towards this destination.\\n\\nPlease make sure to always refer to our Acceptable Use Policy for Messaging. ', 'url': 'https://support.telnyx.com/en/articles/6677958-mongolia-sms-guidelines'}, {'id': '6677954', 'title': 'Monaco: SMS Guidelines', 'body': 'MCC: 212. Dial Code: 377. Alphanumeric Sender IDs are supported and will be maintained, no registration is required.\\n\\nThere are no restrictions with regards to content towards this destination.\\n\\nPlease make sure to always refer to our Acceptable Use Policy for Messaging. ', 'url': 'https://support.telnyx.com/en/articles/6677954-monaco-sms-guidelines'}, {'id': '6677919', 'title': 'Mauritius: SMS Guidelines', 'body': 'MCC: 617. Dial Code: 230. Alphanumeric Sender IDs are supported and will be maintained, except towards network Orange Mauritius. No registration is required. \\n\\nReligious, political or adult traffic is prohibited.\\n\\nPlease make sure to always refer to our Acceptable Use Policy for Messaging.', 'url': 'https://support.telnyx.com/en/articles/6677919-mauritius-sms-guidelines'}, {'id': '6675690', 'title': 'Mauritania: SMS Guidelines', 'body': 'MCC: 609. Dial Code: 222. Alphanumeric Sender IDs are supported and will be maintained, no registration is required.\\nThe use of generic Alpha Sender IDs is not recommended. Alpha Senders should be directly related to the message content. \\nThere are no restrictions with regards to content towards this destination.\\n\\nPlease make sure to always refer to our Acceptable Use Policy for Messaging.', 'url': 'https://support.telnyx.com/en/articles/6675690-mauritania-sms-guidelines'}, {'id': '6675683', 'title': 'Martinique: SMS Guidelines', 'body': 'Martinique: SMS Guidelines\\nMCC: 340. Dial Code: 596. Alphanumeric Sender IDs are supported and will be maintained, no registration is required.\\n\\nThere are no restrictions with regards to content towards this destination.\\n\\nPlease make sure to always refer to our Acceptable Use Policy for Messaging.', 'url': 'https://support.telnyx.com/en/articles/6675683-martinique-sms-guidelines'}, {'id': '6675252', 'title': 'Malta: SMS Guidelines', 'body': 'Malta: SMS Guidelines\\nMCC: 278. Dial Code: 356. Alphanumeric Sender IDs are supported and will be maintained, no registration is required.\\n\\nThere are no restrictions with regards to content towards this destination.\\n\\nPlease make sure to always refer to our Acceptable Use Policy for Messaging.', 'url': 'https://support.telnyx.com/en/articles/6675252-malta-sms-guidelines'}, {'id': '6675247', 'title': 'Mali: SMS Guidelines', 'body': 'Mali: SMS Guidelines\\nMCC: 610. Dial Code: 223. Alphanumeric Sender IDs are supported. There is a distinction between Local and International traffic. For local traffic, Alphanumeric Sender IDs are only supported through registration. International traffic does not require registration. Alphanumeric Senders will be supported. Please make sure to always refer to our Acceptable Use Policy for Messaging. For more information on Alpha Sender ID registration kindly reach out to alpha_sender_id@telnyx.com.', 'url': 'https://support.telnyx.com/en/articles/6675247-mali-sms-guidelines'}, {'id': '6675222', 'title': 'Maldives: SMS Guidelines', 'body': 'Maldives: SMS Guidelines\\nMCC: 472. Dial Code: 960. Alphanumeric Sender IDs are supported and will be maintained, no registration is required.\\n\\nThere are no restrictions with regards to content towards this destination.\\n\\nPlease make sure to always refer to our Acceptable Use Policy for Messaging.', 'url': 'https://support.telnyx.com/en/articles/6675222-maldives-sms-guidelines'}, {'id': '6675110', 'title': 'Malaysia: SMS Guidelines', 'body': 'Malaysia: SMS Guidelines\\nMCC: 502. Dial Code: 60. Alphanumeric Sender IDs are not supported. Registration is not possible.\\n\\nAll Alphanumeric Sender IDs will be overwritten to either a random Local Long Code or Short Code to ensure delivery. Message content should start with the Header “RM0.00 ,” “RM0.0 ,” or “RM0 “. If this header is not included, it will be added by local operators, this can disrupt total message content length. Additionally, content should include a brand/identifier or company name, without this identifier, operators can filter traffic or impose fines for non-compliant traffic. Please make sure to always refer to our Acceptable Use Policy for Messaging.', 'url': 'https://support.telnyx.com/en/articles/6675110-malaysia-sms-guidelines'}, {'id': '6675104', 'title': 'Malawi: SMS Guidelines', 'body': 'Malawi: SMS Guidelines\\nMCC: 650. Dial Code: 265. Alphanumeric Sender IDs are supported and will be maintained, no registration is required.\\n\\nThere are no restrictions with regards to content towards this destination.\\n\\nPlease make sure to always refer to our Acceptable Use Policy for Messaging.', 'url': 'https://support.telnyx.com/en/articles/6675104-malawi-sms-guidelines'}, {'id': '6675096', 'title': 'Madagascar: SMS Guidelines', 'body': 'MCC: 646. Dial Code: 261. Alphanumeric Sender IDs are supported and will be maintained, no registration is required.\\n\\nThere are no restrictions with regards to content towards this destination.\\n\\nPlease make sure to always refer to our Acceptable Use Policy for Messaging.', 'url': 'https://support.telnyx.com/en/articles/6675096-madagascar-sms-guidelines'}, {'id': '6675034', 'title': 'Macedonia (North Macedonia): SMS Guidelines', 'body': 'Macedonia (North Macedonia): SMS Guidelines\\nMCC: 294. Dial Code: 389. Alphanumeric Sender IDs are supported and will be maintained, no registration is required.\\nOccasionally Alphanumeric Sender IDs might be replaced by Generic Alphanumeric Sender ID to ensure delivery. \\nThere are no restrictions with regards to content towards this destination.\\n\\nPlease make sure to always refer to our Acceptable Use Policy for Messaging.', 'url': 'https://support.telnyx.com/en/articles/6675034-macedonia-north-macedonia-sms-guidelines'}, {'id': '6675024', 'title': 'Macao: SMS Guidelines', 'body': 'Macao: SMS Guidelines\\nMCC: 455. Dial Code: 853. Alphanumeric Sender IDs are  supported. Registration is not necessary.\\n\\nAlphanumeric Sender IDs can be overwritten to a random Hong Kong Long Code to ensure delivery towards Network China Telecom (45507). There are no restrictions with regards to content towards this destination.\\n\\nPlease make sure to always refer to our Acceptable Use Policy for Messaging.', 'url': 'https://support.telnyx.com/en/articles/6675024-macao-sms-guidelines'}, {'id': '6674999', 'title': 'Liechtenstein: SMS Guidelines', 'body': 'Liechtenstein: SMS Guidelines\\nMCC: 295. Dial Code: 423. Alphanumeric Sender IDs are supported and will be maintained, no registration is required.\\n\\nThere are no restrictions with regards to content towards this destination.\\n\\nPlease make sure to always refer to our Acceptable Use Policy for Messaging.', 'url': 'https://support.telnyx.com/en/articles/6674999-liechtenstein-sms-guidelines'}, {'id': '6674989', 'title': 'Libya: SMS Guidelines', 'body': 'Libya: SMS Guidelines\\nMCC: 606. Dial Code: 218. Alphanumeric Sender IDs are supported and will be maintained, no registration is required.\\n\\nThere are no restrictions with regards to content towards this destination.\\n\\nPlease make sure to always refer to our Acceptable Use Policy for Messaging.', 'url': 'https://support.telnyx.com/en/articles/6674989-libya-sms-guidelines'}, {'id': '6674974', 'title': 'Liberia: SMS Guidelines', 'body': 'Liberia: SMS Guidelines\\nMCC: 618. Dial Code: 231. Alphanumeric Sender IDs are supported. For Network Lonestar MTN (61801) Alphanumeric Sender IDs are only supported with registration. Without registration to this network, Alpha Senders will be overwritten to Generic Alpha Sender IDs or will NOT deliver. The use of generic Alpha Sender IDs is not recommended. Alpha Senders should be directly related to the message content. Please make sure to always refer to our Acceptable Use Policy for Messaging. For more information on Alpha Sender ID registration kindly reach out to alpha_sender_id@telnyx.com.', 'url': 'https://support.telnyx.com/en/articles/6674974-liberia-sms-guidelines'}, {'id': '6674813', 'title': 'Lesotho: SMS Guidelines', 'body': 'Lesotho: SMS Guidelines\\nMCC: 651. Dial Code: 266. Alphanumeric Sender IDs are supported and will be maintained, no registration is required.\\n\\nThere are no restrictions with regards to content towards this destination.\\n\\nPlease make sure to always refer to our Acceptable Use Policy for Messaging. ', 'url': 'https://support.telnyx.com/en/articles/6674813-lesotho-sms-guidelines'}, {'id': '6674807', 'title': 'Lebanon: SMS Guidelines', 'body': 'Lebanon: SMS Guidelines\\nMCC: 415. Dial Code: 961. Alphanumeric Sender IDs are supported and will be maintained, no registration is required.\\n\\nThere are no restrictions with regards to content towards this destination.\\n\\nPlease make sure to always refer to our Acceptable Use Policy for Messaging.', 'url': 'https://support.telnyx.com/en/articles/6674807-lebanon-sms-guidelines'}, {'id': '6674798', 'title': 'Laos PDR: SMS Guidelines', 'body': 'MCC: 457. Dial Code: 856. Alphanumeric Sender IDs are supported and will be maintained, no registration is required.\\n\\nThere are no restrictions with regards to content towards this destination.\\n\\nPlease make sure to always refer to our Acceptable Use Policy for Messaging.', 'url': 'https://support.telnyx.com/en/articles/6674798-laos-pdr-sms-guidelines'}, {'id': '6674794', 'title': 'Kyrgyzstan: SMS Guidelines', 'body': 'MCC: 437. Dial Code: 996. Alphanumeric Sender IDs are supported and will be maintained, no registration is required.\\n\\nThere are no restrictions with regards to content towards this destination.\\n\\nPlease make sure to always refer to our Acceptable Use Policy for Messaging.', 'url': 'https://support.telnyx.com/en/articles/6674794-kyrgyzstan-sms-guidelines'}, {'id': '6674713', 'title': 'Kuwait: SMS Guidelines', 'body': 'Kuwait: SMS Guidelines\\nMCC: 419. Dial Code: 965. Alphanumeric Sender IDs are supported with registration. Alphanumeric Sender ID registration is required. The use of generic Alpha Sender IDs is not recommended. Alpha Senders should be directly related to the message content. Adult, religious and political content is not permitted. Please make sure to always refer to our Acceptable Use Policy for Messaging. For more information on Alpha Sender ID registration kindly reach out to alpha_sender_id@telnyx.com.', 'url': 'https://support.telnyx.com/en/articles/6674713-kuwait-sms-guidelines'}, {'id': '6674651', 'title': 'Kosovo: SMS Guidelines', 'body': 'Kosovo: SMS Guidelines\\nMCC: 221. Dial Code: 383. Alphanumeric Sender IDs are supported and will be maintained, no registration is required.\\n\\nThere are no restrictions with regards to content towards this destination.\\n\\nPlease make sure to always refer to our Acceptable Use Policy for Messaging.', 'url': 'https://support.telnyx.com/en/articles/6674651-kosovo-sms-guidelines'}, {'id': '6674630', 'title': 'Kenya: SMS Guidelines', 'body': 'Kenya: SMS Guidelines\\nMCC: 639. Dial Code: 254. Alphanumeric Sender IDs are supported with registration. Alphanumeric Sender ID registration is required. Political, Religious, gambling, adult and P2P content is prohibited. The use of generic Alpha Sender IDs is not recommended. Alpha Senders should be directly related to the message content. Please make sure to always refer to our Acceptable Use Policy for Messaging. For more information on Alpha Sender ID registration kindly reach out to alpha_sender_id@telnyx.com.', 'url': 'https://support.telnyx.com/en/articles/6674630-kenya-sms-guidelines'}, {'id': '6674595', 'title': 'Kazakhstan: SMS Guidelines', 'body': 'Kazakhstan: SMS Guidelines\\nMCC: 401. Dial Code: 7. Alphanumeric Sender IDs are supported with registration. Alphanumeric Sender ID registration is required. Non-registered Alphanumeric Sender IDs will either be rejected or overwritten. However, this is on best-effort basis. The use of generic Alpha Sender IDs is not recommended. Alpha Senders should be directly related to the message content. Please make sure to always refer to our Acceptable Use Policy for Messaging. For more information on Alpha Sender ID registration kindly reach out to alpha_sender_id@telnyx.com.', 'url': 'https://support.telnyx.com/en/articles/6674595-kazakhstan-sms-guidelines'}, {'id': '6674487', 'title': 'Jordan: SMS Guidelines', 'body': 'Jordan: SMS Guidelines\\nMCC: 416. Dial Code: 962. Alphanumeric Sender IDs are supported. There is a distinction between Local and International traffic. For local traffic, Alphanumeric Sender IDs are only supported through registration. International traffic does not require registration. Alphanumeric Senders will be supported. Promotional traffic can only be sent between 7 A.M. and 9 P.M. local time. Alphanumeric Senders used for promotional traffic must include the prefix \"ADV\". Please make sure to always refer to our Acceptable Use Policy for Messaging. For more information on Alpha Sender ID registration kindly reach out to alpha_sender_id@telnyx.com. ', 'url': 'https://support.telnyx.com/en/articles/6674487-jordan-sms-guidelines'}, {'id': '6674476', 'title': 'Japan: SMS Guidelines', 'body': 'Japan: SMS Guidelines\\nMCC: 440. Dial Code: 81. Alphanumeric Sender IDs are supported and will be maintained, no registration is required.\\n\\nSMS containing URLs as part of the message body could be filtered\\n\\nPlease make sure to always refer to our Acceptable Use Policy for Messaging.', 'url': 'https://support.telnyx.com/en/articles/6674476-japan-sms-guidelines'}, {'id': '6674464', 'title': 'Jamaica: SMS Guidelines', 'body': 'Jamaica: SMS Guidelines\\nMCC: 338. Dial Code: 1876. Alphanumeric Sender IDs are supported and will be maintained, no registration is required.\\n\\nThere are no restrictions with regards to content towards this destination.\\n\\nPlease make sure to always refer to our Acceptable Use Policy for Messaging.', 'url': 'https://support.telnyx.com/en/articles/6674464-jamaica-sms-guidelines'}, {'id': '6674453', 'title': 'Israel: SMS Guidelines', 'body': 'Israel: SMS Guidelines\\nMCC: 425. Dial Code: 972. Alphanumeric Sender IDs are supported and will be maintained, no registration is required.\\n\\nReligious, gambling, political or adult traffic is prohibited.\\n\\nPlease make sure to always refer to our Acceptable Use Policy for Messaging.', 'url': 'https://support.telnyx.com/en/articles/6674453-israel-sms-guidelines'}, {'id': '6674403', 'title': 'Iran: SMS Guidelines', 'body': 'Iran: SMS Guidelines\\nMCC: 432. Dial Code: 98. Alphanumeric Sender IDs are partially supported. For network Righttel (43220), Alphanumeric Sender IDs are supported and will be maintained. Alphanumeric Sender ID registration is required for Network MCI (43211). For the remaining networks  Alphanumeric Senders will be overwritten to a random long code to ensure delivery. The use of generic Alpha Sender IDs is not recommended. Alpha Senders should be directly related to the message content. Please make sure to always refer to our Acceptable Use Policy for Messaging. For more information on Alpha Sender ID registration kindly reach out to alpha_sender_id@telnyx.com. ', 'url': 'https://support.telnyx.com/en/articles/6674403-iran-sms-guidelines'}, {'id': '6674396', 'title': 'Indonesia: SMS Guidelines', 'body': 'MCC: 510. Dial Code: 62. Alphanumeric Sender IDs are supported with registration. Alphanumeric Sender ID registration is required. Unregistered Alphanumeric Sender IDs can sometimes be overwritten, however this should only be seen as best-effort delivery. There is a distinction between Local and International traffic and processes vary depending on this difference. The use of generic Alphanumeric Sender IDs is not recommended. Alphanumeric Senders should be directly related to the message content. Please make sure to always refer to our Acceptable Use Policy for Messaging. For more information on Alpha Sender ID registration kindly reach out to alpha_sender_id@telnyx.com.', 'url': 'https://support.telnyx.com/en/articles/6674396-indonesia-sms-guidelines'}, {'id': '6674383', 'title': 'India: SMS Guidelines', 'body': 'MCC: 404 - 405. Dial Code: 91. Alphanumeric Sender IDs are partially supported through registration. Only Local Alpha Sender IDs (Local Entities) can be registered (DLT registration process) while no registration is possible for International Alpha Sender IDs. International Alphanumeric Sender IDs will be overwritten to random Short Code to ensure delivery. Please make sure to always refer to our Acceptable Use Policy for Messaging. For more information on Alpha Sender ID registration kindly reach out to alpha_sender_id@telnyx.com.', 'url': 'https://support.telnyx.com/en/articles/6674383-india-sms-guidelines'}, {'id': '6674367', 'title': 'Hong Kong: SMS Guidelines', 'body': 'Hong Kong: SMS Guidelines\\nMCC: 454. Dial Code: 852. Alphanumeric Sender IDs are supported and will be maintained, no registration is required. It is common for handsets in Hong Kong to follow the “2 numbers 1 SIM Card” model, with one Chinese number (+86) and one HK number (+85), this can cause delivery issues. Please make sure to always refer to our Acceptable Use Policy for Messaging. ', 'url': 'https://support.telnyx.com/en/articles/6674367-hong-kong-sms-guidelines'}, {'id': '6674331', 'title': 'Haiti: SMS Guidelines', 'body': 'Haiti: SMS Guidelines\\nMCC: 372. Dial Code: 509. Alphanumeric Sender IDs are partially supported. Registration is not possible.\\n\\nAlphanumeric Sender IDs are not supported towards Operator Natcom (37203), due to local restrictions, submissions with this type of Sender will be blocked. Please make sure to always refer to our Acceptable Use Policy for Messaging.', 'url': 'https://support.telnyx.com/en/articles/6674331-haiti-sms-guidelines'}, {'id': '6671856', 'title': 'Guyana: SMS Guidelines', 'body': 'Guyana: SMS Guidelines\\nMCC: 738. Dial Code: 592. Alphanumeric Sender IDs are supported and will be maintained, no registration is required.\\n\\nThere are no restrictions with regards to content towards this destination.\\n\\nPlease make sure to always refer to our Acceptable Use Policy for Messaging.', 'url': 'https://support.telnyx.com/en/articles/6671856-guyana-sms-guidelines'}, {'id': '6671725', 'title': 'Guinea-Bissau: SMS Guidelines', 'body': 'Guinea-Bissau: SMS Guidelines\\nMCC: 632. Dial Code: 245. Alphanumeric Sender IDs are supported. For Network MTN (63202) Alphanumeric Sender IDs are only supported with registration. Without registration to this network, Alpha Senders will be overwritten to Generic Alpha Sender IDs or will NOT deliver. The use of generic Alpha Sender IDs is not recommended. Alpha Senders should be directly related to the message content. Please make sure to always refer to our Acceptable Use Policy for Messaging. For more information on Alpha Sender ID registration kindly reach out to alpha_sender_id@telnyx.com. . ', 'url': 'https://support.telnyx.com/en/articles/6671725-guinea-bissau-sms-guidelines'}, {'id': '6671488', 'title': 'Guinea: SMS Guidelines', 'body': 'Guinea: SMS Guidelines\\nMCC: 611. Dial Code: 224. Alphanumeric Sender IDs are supported. For Network MTN (61104) Alphanumeric Sender IDs are only supported with registration. Without registration to this network, Alpha Senders will be overwritten to Generic Alpha Sender IDs or will NOT deliver. The use of generic Alpha Sender IDs is not recommended. Alpha Senders should be directly related to the message content. Please make sure to always refer to our Acceptable Use Policy for Messaging. For more information on Alpha Sender ID registration kindly reach out to alpha_sender_id@telnyx.com.', 'url': 'https://support.telnyx.com/en/articles/6671488-guinea-sms-guidelines'}, {'id': '6671472', 'title': 'Guam: SMS Guidelines', 'body': 'Guam: SMS Guidelines\\nMCC: 310. Dial Code: 1671. The use of Alphanumeric Sender IDs is not allowed/supported for this destination. For this destination, only traffic with Long Code is permitted. Please make sure to always refer to our Acceptable Use Policy for Messaging.', 'url': 'https://support.telnyx.com/en/articles/6671472-guam-sms-guidelines'}, {'id': '6671462', 'title': 'Guadeloupe: SMS Guidelines', 'body': 'Guadeloupe: SMS Guidelines\\nMCC: 340. Dial Code: 590. Alphanumeric Sender IDs are supported and will be maintained, no registration is required.\\n\\nThere are no restrictions with regards to content towards this destination.\\n\\nPlease make sure to always refer to our Acceptable Use Policy for Messaging.', 'url': 'https://support.telnyx.com/en/articles/6671462-guadeloupe-sms-guidelines'}, {'id': '6670896', 'title': 'Grenada: SMS Guidelines', 'body': 'Grenada: SMS Guidelines\\nMCC: 352. Dial Code: 1473. Alphanumeric Sender IDs are supported and will be maintained, no registration is required.\\n\\nThere are no restrictions with regards to content towards this destination.\\n\\nPlease make sure to always refer to our Acceptable Use Policy for Messaging.', 'url': 'https://support.telnyx.com/en/articles/6670896-grenada-sms-guidelines'}, {'id': '6670885', 'title': 'Greenland: SMS Guidelines', 'body': 'MCC: 290. Dial Code: 299. Alphanumeric Sender IDs are supported and will be maintained, no registration is required.\\nThe use of generic Alpha Sender IDs is not recommended. Alpha Senders should be directly related to the message content.\\nThere are no restrictions with regards to content towards this destination.\\n\\nPlease make sure to always refer to our Acceptable Use Policy for Messaging.', 'url': 'https://support.telnyx.com/en/articles/6670885-greenland-sms-guidelines'}, {'id': '6670878', 'title': 'Gibraltar: SMS Guidelines', 'body': 'Gibraltar: SMS Guidelines\\nMCC: 266. Dial Code: 350. Alphanumeric Sender IDs are supported and will be maintained, no registration is required.\\n\\nThere are no restrictions with regards to content towards this destination.\\n\\nPlease make sure to always refer to our Acceptable Use Policy for Messaging.', 'url': 'https://support.telnyx.com/en/articles/6670878-gibraltar-sms-guidelines'}, {'id': '6670870', 'title': 'Ghana: SMS Guidelines', 'body': 'MCC: 620. Dial Code: 233. Alphanumeric Sender IDs are supported. For Network MTN (62001) Alphanumeric Sender IDs are only supported with registration. Without registration to this network, Alpha Senders will be overwritten to Generic Alpha Sender IDs or will NOT deliver. The use of generic Alpha Sender IDs is not recommended. Alpha Senders should be directly related to the message content. Please make sure to always refer to our Acceptable Use Policy for Messaging. For more information on Alpha Sender ID registration kindly reach out to alpha_sender_id@telnyx.com. . ', 'url': 'https://support.telnyx.com/en/articles/6670870-ghana-sms-guidelines'}, {'id': '6670869', 'title': 'Germany: SMS Guidelines', 'body': 'Germany: SMS Guidelines\\nMCC: 262. Dial Code: 49. Alphanumeric Sender IDs are supported and will be maintained, no registration is required.\\n\\nThere are no restrictions with regards to content towards this destination.\\n\\nPlease make sure to always refer to our Acceptable Use Policy for Messaging.', 'url': 'https://support.telnyx.com/en/articles/6670869-germany-sms-guidelines'}, {'id': '6670856', 'title': 'Georgia: SMS Guidelines', 'body': 'Georgia: SMS Guidelines\\nMCC: 282. Dial Code: 995. Alphanumeric Sender IDs are supported and will be maintained, no registration is required.\\n\\nThere are no restrictions with regards to content towards this destination.\\n\\nPlease make sure to always refer to our Acceptable Use Policy for Messaging.', 'url': 'https://support.telnyx.com/en/articles/6670856-georgia-sms-guidelines'}, {'id': '6670843', 'title': 'Gambia: SMS Guidelines', 'body': 'MCC: 628. Dial Code: 241. Alphanumeric Sender IDs are supported and will be maintained, no registration is required. The use of generic Alpha Sender IDs is not recommended. Alpha Senders should be directly related to the message content.\\n\\nReligious, political or adult traffic is prohibited.\\n\\nPlease make sure to always refer to our Acceptable Use Policy for Messaging.', 'url': 'https://support.telnyx.com/en/articles/6670843-gambia-sms-guidelines'}, {'id': '6670834', 'title': 'Gabon: SMS Guidelines', 'body': 'Gabon: SMS Guidelines\\nMCC: 628. Dial Code: 241. Alphanumeric Sender IDs are supported and will be maintained, no registration is required.\\n\\nReligious, political or adult traffic is prohibited.\\n\\nPlease make sure to always refer to our Acceptable Use Policy for Messaging.', 'url': 'https://support.telnyx.com/en/articles/6670834-gabon-sms-guidelines'}, {'id': '6670819', 'title': 'French Polynesia: SMS Guidelines', 'body': 'French Polynesia: SMS Guidelines\\nMCC: 547. Dial Code: 689. Alphanumeric Sender IDs are supported and will be maintained, no registration is required.\\n\\nThere are no restrictions with regards to content towards this destination.\\n\\nPlease make sure to always refer to our Acceptable Use Policy for Messaging.', 'url': 'https://support.telnyx.com/en/articles/6670819-french-polynesia-sms-guidelines'}, {'id': '6670802', 'title': 'French Guyana: SMS Guidelines', 'body': 'French Guyana: SMS Guidelines\\nMCC: 742. Dial Code: 594. Alphanumeric Sender IDs are supported and will be maintained, no registration is required.\\n\\nThere are no restrictions with regards to content towards this destination.\\n\\nPlease make sure to always refer to our Acceptable Use Policy for Messaging.', 'url': 'https://support.telnyx.com/en/articles/6670802-french-guyana-sms-guidelines'}, {'id': '6670784', 'title': 'Fiji: SMS Guidelines', 'body': 'MCC: 542. Dial Code: 679. Alphanumeric Sender IDs are supported and will be maintained, no registration is required.\\n\\nThere are no restrictions with regards to content towards this destination.\\n\\nPlease make sure to always refer to our Acceptable Use Policy for Messaging.', 'url': 'https://support.telnyx.com/en/articles/6670784-fiji-sms-guidelines'}, {'id': '6670775', 'title': 'Faroe Islands: SMS Guidelines', 'body': 'Faroe Islands: SMS Guidelines\\nMCC: 288. Dial Code: 298. Alphanumeric Sender IDs are supported and will be maintained, no registration is required.\\n\\nThere are no restrictions with regards to content towards this destination.\\n\\nPlease make sure to always refer to our Acceptable Use Policy for Messaging.', 'url': 'https://support.telnyx.com/en/articles/6670775-faroe-islands-sms-guidelines'}, {'id': '6670750', 'title': 'Falkland Islands: SMS Guidelines', 'body': 'Falkland Islands: SMS Guidelines\\nMCC: 750. Dial Code: 500. Alphanumeric Sender IDs are supported and will be maintained, no registration is required.\\n\\nThere are no restrictions with regards to content towards this destination.\\n\\nPlease make sure to always refer to our Acceptable Use Policy for Messaging.', 'url': 'https://support.telnyx.com/en/articles/6670750-falkland-islands-sms-guidelines'}, {'id': '6670465', 'title': 'Ethiopia: SMS Guidelines', 'body': 'Ethiopia: SMS Guidelines\\nMCC: 636. Dial Code: 251. Alphanumeric Sender IDs are supported. For Network MTN (63601) Alphanumeric Sender IDs are only supported with registration. Without registration to this network, Alpha Senders will be overwritten to Generic Alpha Sender IDs or will NOT deliver. Sending traffic related to local Banking or Promotional traffic is not allowed. Please make sure to always refer to our Acceptable Use Policy for Messaging. For more information on Alpha Sender ID registration kindly reach out to alpha_sender_id@telnyx.com.', 'url': 'https://support.telnyx.com/en/articles/6670465-ethiopia-sms-guidelines'}, {'id': '6670452', 'title': 'Eritrea: SMS Guidelines', 'body': 'MCC: 657. Dial Code: 291. Alphanumeric Sender IDs are supported and will be maintained, no registration is required. The use of generic Alpha Sender IDs is not recommended. Alpha Senders should be directly related to the message content.\\n\\nReligious, political or adult traffic is prohibited.\\n\\nPlease make sure to always refer to our Acceptable Use Policy for Messaging.', 'url': 'https://support.telnyx.com/en/articles/6670452-eritrea-sms-guidelines'}, {'id': '6670439', 'title': 'Equatorial Guinea: SMS Guidelines', 'body': 'Equatorial Guinea: SMS Guidelines\\nMCC: 627. Dial Code: 240. Alphanumeric Sender IDs are supported and will be maintained, no registration is required.\\n\\nThere are no restrictions with regards to content towards this destination.\\n\\nPlease make sure to always refer to our Acceptable Use Policy for Messaging.', 'url': 'https://support.telnyx.com/en/articles/6670439-equatorial-guinea-sms-guidelines'}, {'id': '6670411', 'title': 'Egypt: SMS Guidelines', 'body': 'Egypt: SMS Guidelines\\nMCC: 602. Dial Code: 20. Alphanumeric Sender IDs are supported. For network Etisalat (60203), Alphanumeric Senders are only supported through registration. Without registration to this network, Alpha Senders will be overwritten to Generic Alpha Sender IDs or will NOT deliver. Please make sure to always refer to our Acceptable Use Policy for Messaging. For more information on Alpha Sender ID registration kindly reach out to alpha_sender_id@telnyx.com. ', 'url': 'https://support.telnyx.com/en/articles/6670411-egypt-sms-guidelines'}, {'id': '6665730', 'title': 'Dominican Republic: SMS Guidelines', 'body': 'Dominican Republic: SMS Guidelines\\nMCC: 370. Dial Code: 1809. Alphanumeric Sender IDs are supported. No registration is required. Occasionally Alphanumeric Sender ID might be overwritten to Random Short Code to ensure delivery. Please make sure to always refer to our Acceptable Use Policy for Messaging.', 'url': 'https://support.telnyx.com/en/articles/6665730-dominican-republic-sms-guidelines'}, {'id': '6665707', 'title': 'Dominica: SMS Guidelines', 'body': 'Dominica: SMS Guidelines\\nMCC: 366. Dial Code: 1767. Alphanumeric Sender IDs are supported and will be maintained, no registration is required.\\n\\nThere are no restrictions with regards to content towards this destination.\\n\\nPlease make sure to always refer to our Acceptable Use Policy for Messaging.', 'url': 'https://support.telnyx.com/en/articles/6665707-dominica-sms-guidelines'}, {'id': '6665699', 'title': 'Djibouti: SMS Guidelines', 'body': 'Djibouti: SMS Guidelines\\nMCC: 253. Dial Code: 638. Alphanumeric Sender IDs are supported and will be maintained, no registration is required. The use of generic Alpha Sender IDs is not recommended. Alpha Senders should be directly related to the message content.\\n\\nThere are no restrictions with regards to content towards this destination.\\n\\nPlease make sure to always refer to our Acceptable Use Policy for Messaging.', 'url': 'https://support.telnyx.com/en/articles/6665699-djibouti-sms-guidelines'}, {'id': '6665171', 'title': 'Cyprus: SMS Guidelines', 'body': 'Cyprus: SMS Guidelines\\nMCC: 357. Dial Code: 280. Alphanumeric Sender IDs are supported and will be maintained, no registration is required.\\n\\nThere are no restrictions with regards to content towards this destination.\\n\\nPlease make sure to always refer to our Acceptable Use Policy for Messaging.', 'url': 'https://support.telnyx.com/en/articles/6665171-cyprus-sms-guidelines'}, {'id': '6665126', 'title': 'Cuba: SMS Guidelines', 'body': 'Cuba: SMS Guidelines\\nMCC: 368. Dial Code: 53. Alphanumeric Sender IDs are supported with registration. Alpha numeric Sender ID registration is required. Senders composed of a combination of letters and numbers are not supported. Provision times for Alphanumeric Registration up to 6 months. Please make sure to always refer to our Acceptable Use Policy for Messaging. For more information on Alpha Sender ID registration kindly reach out to alpha_sender_id@telnyx.com.', 'url': 'https://support.telnyx.com/en/articles/6665126-cuba-sms-guidelines'}, {'id': '6665111', 'title': \"Cote d'Ivoire: SMS Guidelines\", 'body': \"Cote d'Ivoire: SMS Guidelines\\nMCC: 612. Dial Code: 225. Alphanumeric Sender IDs are supported. For Network MTN (61205) Alphanumeric Sender IDs are only supported with registration. Without registration to this network, Alpha Senders will be overwritten to Generic Alpha Sender IDs or will NOT deliver. The use of generic Alpha Sender IDs is not recommended. Alpha Senders should be directly related to the message content. Please make sure to always refer to our Acceptable Use Policy for Messaging. For more information on Alpha Sender ID registration kindly reach out to alpha_sender_id@telnyx.com.\", 'url': 'https://support.telnyx.com/en/articles/6665111-cote-d-ivoire-sms-guidelines'}, {'id': '6661387', 'title': 'Cook Islands: SMS Guidelines', 'body': 'MCC: 682. Dial Code: 548. Alphanumeric Sender IDs are supported and will be maintained, no registration is required.\\n\\nThere are no restrictions with regards to content towards this destination.\\n\\nPlease make sure to always refer to our Acceptable Use Policy for Messaging.', 'url': 'https://support.telnyx.com/en/articles/6661387-cook-islands-sms-guidelines'}, {'id': '6661342', 'title': 'Democratic Republic of the Congo: SMS Guidelines', 'body': 'Democratic Republic of the Congo: SMS Guidelines\\n\\nMCC: 243. Dial Code: 630. Alphanumeric Sender IDs are supported. For Network Vodacom (63001) Alphanumeric Sender IDs are only supported with registration. Outside of this network, Alphanumeric Sender IDs can be replaced by Generic Alpha Sender ID or random Short Code. Please make sure to always refer to our Acceptable Use Policy for Messaging. For more information on Alpha Sender ID registration kindly reach out to alpha_sender_id@telnyx.com.', 'url': 'https://support.telnyx.com/en/articles/6661342-democratic-republic-of-the-congo-sms-guidelines'}, {'id': '6661326', 'title': 'Congo: SMS Guidelines', 'body': 'MCC: 629. Dial Code: 242. Alphanumeric Sender IDs are supported. For Network MTN (62910) Alphanumeric Sender IDs are only supported with registration. Without registration to this network, Alpha Senders will be overwritten to Generic Alpha Sender IDs or will NOT deliver. The use of generic Alpha Sender IDs is not recommended. Alpha Senders should be directly related to the message content. Please make sure to always refer to our Acceptable Use Policy for Messaging. For more information on Alpha Sender ID registration kindly reach out to alpha_sender_id@telnyx.com.', 'url': 'https://support.telnyx.com/en/articles/6661326-congo-sms-guidelines'}, {'id': '6601152', 'title': 'Comoros: SMS Guidelines', 'body': 'Comoros: SMS Guidelines\\nMCC: 654. Dial Code: 269. Alphanumeric Sender IDs are supported and will be maintained, no registration is required.\\n\\nThere are no restrictions with regards to content towards this destination.\\n\\nPlease make sure to always refer to our Acceptable Use Policy for Messaging.', 'url': 'https://support.telnyx.com/en/articles/6601152-comoros-sms-guidelines'}, {'id': '6601144', 'title': 'China: SMS Guidelines', 'body': 'MCC: 460. Dial Code: 86. Alphanumeric Sender IDs are not supported. Registration is not possible.\\n\\nAll Alphanumeric Sender IDs will be overwritten to either a random Local Long Code or Short Code to ensure delivery. All message content has to be whitelisted by local operators. It is highly advise to pre-register message content templates. Please make sure to always refer to our Acceptable Use Policy for Messaging. For more information on content whitelisting kindly reach out to alpha_sender_id@telnyx.com.', 'url': 'https://support.telnyx.com/en/articles/6601144-china-sms-guidelines'}, {'id': '6601133', 'title': 'Chad: SMS Guidelines', 'body': 'MCC: 622. Dial Code: 235. Alphanumeric Sender IDs are supported and will be maintained, no registration is required. The use of generic Alpha Sender IDs is not recommended. Alpha Senders should be directly related to the message content. Please make sure to always refer to our Acceptable Use Policy for Messaging.', 'url': 'https://support.telnyx.com/en/articles/6601133-chad-sms-guidelines'}, {'id': '6601081', 'title': 'Central African Republic: SMS Guidelines', 'body': 'Central African Republic: SMS Guidelines\\nMCC: 623. Dial Code: 236. Alphanumeric Sender IDs are supported and will be maintained, no registration is required.\\n\\nThere are no restrictions with regards to content towards this destination.\\n\\nPlease make sure to always refer to our Acceptable Use Policy for Messaging.', 'url': 'https://support.telnyx.com/en/articles/6601081-central-african-republic-sms-guidelines'}, {'id': '6601076', 'title': 'Cayman Islands: SMS Guidelines', 'body': 'Cayman Islands: SMS Guidelines\\nMCC: 346. Dial Code: 1345. Alphanumeric Sender IDs are supported and will be maintained, no registration is required.\\n\\nThere are no restrictions with regards to content towards this destination.\\n\\nPlease make sure to always refer to our Acceptable Use Policy for Messaging.', 'url': 'https://support.telnyx.com/en/articles/6601076-cayman-islands-sms-guidelines'}, {'id': '6601074', 'title': 'Cape Verde: SMS Guidelines', 'body': 'MCC: 625. Dial Code: 238. Alphanumeric Sender IDs are supported and will be maintained, no registration is required.\\n\\nThere are no restrictions with regards to content towards this destination.\\n\\nPlease make sure to always refer to our Acceptable Use Policy for Messaging.', 'url': 'https://support.telnyx.com/en/articles/6601074-cape-verde-sms-guidelines'}, {'id': '6601061', 'title': 'Cameroon: SMS Guidelines', 'body': 'Cameroon: SMS Guidelines\\nMCC: 624. Dial Code: 237. Alphanumeric Sender IDs are supported. For Network MTN (62401) Alphanumeric Sender IDs are only supported with registration. Without registration to this network, Alpha Senders will be overwritten to Generic Alpha Sender IDs or will NOT deliver. The use of generic Alpha Sender IDs is not recommended. Alpha Senders should be directly related to the message content. Please make sure to always refer to our Acceptable Use Policy for Messaging. For more information on Alpha Sender ID registration kindly reach out to alpha_sender_id@telnyx.com.', 'url': 'https://support.telnyx.com/en/articles/6601061-cameroon-sms-guidelines'}, {'id': '6601049', 'title': 'Cambodia: SMS Guidelines', 'body': 'Cambodia: SMS Guidelines\\nMCC: 456. Dial Code: 855. Alphanumeric Sender IDs are supported and will be maintained, no registration is required.\\n\\nThere are no restrictions with regards to content towards this destination.\\n\\nPlease make sure to always refer to our Acceptable Use Policy for Messaging.', 'url': 'https://support.telnyx.com/en/articles/6601049-cambodia-sms-guidelines'}, {'id': '6601042', 'title': 'Burundi: SMS Guidelines', 'body': 'MCC: 642. Dial Code: 257. Alphanumeric Sender IDs are supported and will be maintained, no registration is required.\\n\\nThere are no restrictions with regards to content towards this destination.\\n\\nPlease make sure to always refer to our Acceptable Use Policy for Messaging.', 'url': 'https://support.telnyx.com/en/articles/6601042-burundi-sms-guidelines'}, {'id': '6601004', 'title': 'Burkina Faso: SMS Guidelines', 'body': 'Burkina Faso: SMS Guidelines\\nMCC: 613. Dial Code: 226. Alphanumeric Sender IDs are supported and will be maintained, no registration is required.\\n\\nThere are no restrictions with regards to content towards this destination.\\n\\nPlease make sure to always refer to our Acceptable Use Policy for Messaging.', 'url': 'https://support.telnyx.com/en/articles/6601004-burkina-faso-sms-guidelines'}, {'id': '6600934', 'title': 'Brunei Darussalam: SMS Guidelines', 'body': 'Brunei Darussalam: SMS Guidelines\\nMCC: 528. Dial Code: 673. Alphanumeric Sender IDs are supported and will be maintained, no registration is required.\\n\\nThere are no restrictions with regards to content towards this destination.\\n\\nPlease make sure to always refer to our Acceptable Use Policy for Messaging.', 'url': 'https://support.telnyx.com/en/articles/6600934-brunei-darussalam-sms-guidelines'}, {'id': '6600928', 'title': 'Botswana: SMS Guidelines', 'body': 'Botswana: SMS Guidelines\\nMCC: 652. Dial Code: 267. Alphanumeric Sender IDs are supported. Registration is not possible. The use of generic Alpha Sender IDs is not recommended as these can be rejected or blocked by local Operators. Alphanumeric Sender IDs should be directly related to the message content. Please make sure to always refer to our Acceptable Use Policy for Messaging.', 'url': 'https://support.telnyx.com/en/articles/6600928-botswana-sms-guidelines'}, {'id': '6596434', 'title': 'Bosnia and Herzegovina: SMS Guidelines', 'body': 'Bosnia and Herzegovina: SMS Guidelines\\nMCC: 218. Dial Code: 387. Alphanumeric Sender IDs are supported and will be maintained, no registration is required.\\n\\nThere are no restrictions with regards to content towards this destination.\\n\\nPlease make sure to always refer to our Acceptable Use Policy for Messaging.', 'url': 'https://support.telnyx.com/en/articles/6596434-bosnia-and-herzegovina-sms-guidelines'}, {'id': '6596425', 'title': 'Bhutan: SMS Guidelines', 'body': 'Bhutan: SMS Guidelines\\nMCC: 402. Dial Code: 975. Alphanumeric Sender IDs are supported and will be maintained, no registration is required.\\n\\nThere are no restrictions with regards to content towards this destination.\\n\\nPlease make sure to always refer to our Acceptable Use Policy for Messaging.', 'url': 'https://support.telnyx.com/en/articles/6596425-bhutan-sms-guidelines'}, {'id': '6596251', 'title': 'Bermuda: SMS Guidelines', 'body': 'Bermuda: SMS Guidelines\\nMCC: 350. Dial Code: 1441. Alphanumeric Sender IDs are supported and will be maintained, no registration is required.\\n\\nThere are no restrictions with regards to content towards this destination.\\n\\nPlease make sure to always refer to our Acceptable Use Policy for Messaging.', 'url': 'https://support.telnyx.com/en/articles/6596251-bermuda-sms-guidelines'}, {'id': '6596235', 'title': 'Benin: SMS Guidelines', 'body': 'Benin: SMS Guidelines\\nMCC: 616. Dial Code: 229. Alphanumeric Sender IDs are supported. For Network MTN (61603) Alphanumeric Sender IDs are only supported with registration. Without registration to this network, Alpha Senders will be overwritten to Generic Alpha Sender IDs or will NOT deliver. The use of generic Alpha Sender IDs is not recommended. Alpha Senders should be directly related to the message content. Please make sure to always refer to our Acceptable Use Policy for Messaging. For more information on Alpha Sender ID registration kindly reach out to alpha_sender_id@telnyx.com.', 'url': 'https://support.telnyx.com/en/articles/6596235-benin-sms-guidelines'}, {'id': '6596210', 'title': 'Barbados: SMS Guidelines', 'body': 'Barbados: SMS Guidelines\\nMCC: 342. Dial Code: 1246. Alphanumeric Sender IDs are supported and will be maintained, no registration is required.\\n\\nThere are no restrictions with regards to content towards this destination.\\n\\nPlease make sure to always refer to our Acceptable Use Policy for Messaging.', 'url': 'https://support.telnyx.com/en/articles/6596210-barbados-sms-guidelines'}, {'id': '6596161', 'title': 'Bangladesh: SMS Guidelines', 'body': 'MCC: 470. Dial Code: 880. Alphanumeric Sender IDs are supported and will be maintained, no registration is required.\\n\\nThere are no restrictions with regards to content towards this destination.\\n\\nPlease make sure to always refer to our Acceptable Use Policy for Messaging.', 'url': 'https://support.telnyx.com/en/articles/6596161-bangladesh-sms-guidelines'}, {'id': '6596158', 'title': 'Bahrain: SMS Guidelines', 'body': 'Bahrain: SMS Guidelines\\nMCC: 426. Dial Code: 973. Alphanumeric Sender IDs are supported and will be maintained, no registration is required.\\n\\nAdult, political and religious content will be blocked by local operators\\n\\nPlease make sure to always refer to our Acceptable Use Policy for Messaging.', 'url': 'https://support.telnyx.com/en/articles/6596158-bahrain-sms-guidelines'}, {'id': '6596149', 'title': 'Bahamas: SMS Guidelines', 'body': 'Bahamas: SMS Guidelines\\nMCC: 364. Dial Code: 1242. Alphanumeric Sender IDs are not supported. Registration is not possible.\\n\\nAll Alphanumeric Sender IDs will be overwritten to either a random Local Long Code or Short Code to ensure delivery. Please make sure to always refer to our Acceptable Use Policy for Messaging.', 'url': 'https://support.telnyx.com/en/articles/6596149-bahamas-sms-guidelines'}, {'id': '6596144', 'title': 'Azerbaijan: SMS Guidelines', 'body': 'Azerbaijan: SMS Guidelines\\nMCC: 400. Dial Code: 994. Alphanumeric Sender IDs are supported and will be maintained, no registration is required.\\n\\nThere are no restrictions with regards to content towards this destination.\\n\\nPlease make sure to always refer to our Acceptable Use Policy for Messaging.', 'url': 'https://support.telnyx.com/en/articles/6596144-azerbaijan-sms-guidelines'}, {'id': '6592538', 'title': 'Aruba: SMS Guidelines', 'body': 'Aruba: SMS Guidelines\\nMCC: 363. Dial Code: 297. Alphanumeric Sender IDs are supported and will be maintained, no registration is required.\\n\\nThere are no restrictions with regards to content towards this destination.\\n\\nPlease make sure to always refer to our Acceptable Use Policy for Messaging.', 'url': 'https://support.telnyx.com/en/articles/6592538-aruba-sms-guidelines'}, {'id': '6592510', 'title': 'Armenia: SMS Guidelines', 'body': 'Armenia: SMS Guidelines\\nMCC: 374. Dial Code: 283. Alphanumeric Sender IDs are supported with registration. Alpha numeric Sender ID registration is required. Without registration Alpha Sender IDs will be overwritten to a generic Alpha Sender ID, or rejected. Alpha Sender ID registration is advised. Please make sure to always refer to our Acceptable Use Policy for Messaging. For more information on Alpha Sender ID registration kindly reach out to alpha_sender_id@telnyx.com.', 'url': 'https://support.telnyx.com/en/articles/6592510-armenia-sms-guidelines'}, {'id': '6592509', 'title': 'Antigua y Barbuda: SMS Guidelines', 'body': 'Antigua y Barbuda: SMS Guidelines\\nMCC: 344. Dial Code: 1268. Alphanumeric Sender IDs are supported and will be maintained, no registration is required.\\n\\nThere are no restrictions with regards to content towards this destination.\\n\\nPlease make sure to always refer to our Acceptable Use Policy for Messaging.', 'url': 'https://support.telnyx.com/en/articles/6592509-antigua-y-barbuda-sms-guidelines'}, {'id': '6592505', 'title': 'Anguila: SMS Guidelines', 'body': 'Anguila: SMS Guidelines\\nMCC: 365. Dial Code: 1264. Alphanumeric Sender IDs are supported and will be maintained, no registration is required.\\n\\nThere are no restrictions with regards to content towards this destination.\\n\\nPlease make sure to always refer to our Acceptable Use Policy for Messaging. ', 'url': 'https://support.telnyx.com/en/articles/6592505-anguila-sms-guidelines'}, {'id': '6592456', 'title': 'Angola: SMS Guidelines', 'body': 'Angola: SMS Guidelines\\nMCC: 631. Dial Code: 244. Alphanumeric Sender IDs are supported and will be maintained, no registration is required.\\n\\nThere are no restrictions with regards to content towards this destination.\\n\\nPlease make sure to always refer to our Acceptable Use Policy for Messaging. ', 'url': 'https://support.telnyx.com/en/articles/6592456-angola-sms-guidelines'}, {'id': '6592454', 'title': 'American Samoa: SMS Guidelines', 'body': 'MCC: 311 - 544. Dial Code: 684. Alphanumeric Sender IDs are supported and will be maintained, no registration is required.\\n\\nThere are no restrictions with regards to content towards this destination.\\n\\nPlease make sure to always refer to our Acceptable Use Policy for Messaging. ', 'url': 'https://support.telnyx.com/en/articles/6592454-american-samoa-sms-guidelines'}, {'id': '6592441', 'title': 'Algeria: SMS Guidelines', 'body': 'Algeria: SMS Guidelines\\nMCC: 603. Dial Code: 213. Alphanumeric Sender IDs are supported and will be maintained, no registration is required.\\n\\nThere are no restrictions with regards to content towards this destination.\\n\\nPlease make sure to always refer to our Acceptable Use Policy for Messaging.', 'url': 'https://support.telnyx.com/en/articles/6592441-algeria-sms-guidelines'}, {'id': '6592387', 'title': 'Afghanistan: SMS Guidelines', 'body': 'Afghanistan: SMS Guidelines\\nMCC: 412. Dial Code: 93. Alphanumeric Sender IDs are supported. For Network MTN (41240) Alphanumeric Sender IDs are only supported with registration.  Without registration to this network, Alpha Senders will be overwritten to Generic Alpha Sender IDs or will NOT deliver. The use of generic Alpha Sender IDs is not recommended. Alpha Senders should be directly related to the message content. Please make sure to always refer to our Acceptable Use Policy for Messaging. For more information on Alpha Sender ID registration kindly reach out to alpha_sender_id@telnyx.com. ', 'url': 'https://support.telnyx.com/en/articles/6592387-afghanistan-sms-guidelines'}, {'id': '6589563', 'title': 'Suriname: SMS Guidelines', 'body': 'MCC: 746. Dial Code: 597. Alphanumeric Sender IDs are supported and will be maintained, no registration is required.\\n\\nThere are no restrictions with regards to content towards this destination.\\n\\nPlease make sure to always refer to our Acceptable Use Policy for Messaging.', 'url': 'https://support.telnyx.com/en/articles/6589563-suriname-sms-guidelines'}, {'id': '6589557', 'title': 'Iraq: SMS Guidelines', 'body': 'MCC: 418. Dial Code: 964. Alphanumeric Sender IDs are supported. Registration is not possible. The use of generic Alpha Sender IDs is not recommended as these can be rejected or blocked by local Operators. Alphanumeric Sender IDs should be directly related to the message content. Please make sure to always refer to our Acceptable Use Policy for Messaging.', 'url': 'https://support.telnyx.com/en/articles/6589557-iraq-sms-guidelines'}, {'id': '6574098', 'title': 'Nicaragua: SMS Guidelines', 'body': 'Nicaragua: SMS Guidelines\\nMCC: 710. Dial Code: 505. Alphanumeric Sender IDs are not supported. Registration is not possible.\\n\\nAll Alphanumeric Sender IDs will be overwritten to either a random Local Long Code or Short Code to ensure delivery. Please make sure to always refer to our Acceptable Use Policy for Messaging.', 'url': 'https://support.telnyx.com/en/articles/6574098-nicaragua-sms-guidelines'}, {'id': '6574081', 'title': 'Honduras: SMS Guidelines', 'body': 'Honduras: SMS Guidelines\\nMCC: 708. Dial Code: 504. Alphanumeric Sender IDs are partially supported. Registration is not possible.\\n\\nAll Alphanumeric Sender IDs can be overwritten to either a random Local Long Code or Short Code to ensure delivery. Please make sure to always refer to our Acceptable Use Policy for Messaging.', 'url': 'https://support.telnyx.com/en/articles/6574081-honduras-sms-guidelines'}, {'id': '6574078', 'title': 'El Salvador: SMS Guidelines', 'body': 'El Salvador: SMS Guidelines\\nMCC: 706. Dial Code: 503. Alphanumeric Sender IDs are not supported. Registration is not possible.\\n\\nAll Alphanumeric Sender IDs will be overwritten to either a random Local Long Code or Short Code to ensure delivery. Please make sure to always refer to our Acceptable Use Policy for Messaging.', 'url': 'https://support.telnyx.com/en/articles/6574078-el-salvador-sms-guidelines'}, {'id': '6574037', 'title': 'Belize: SMS Guidelines', 'body': 'Belize: SMS Guidelines\\nMCC: 702. Dial Code: 501. Alphanumeric Sender IDs are partially supported. Registration is not possible.\\n\\nAll Alphanumeric Sender IDs can be overwritten to either a random Local Long Code or Short Code to ensure delivery. Please make sure to always refer to our Acceptable Use Policy for Messaging.', 'url': 'https://support.telnyx.com/en/articles/6574037-belize-sms-guidelines'}, {'id': '6574032', 'title': 'Guatemala: SMS Guidelines', 'body': 'Guatemala: SMS Guidelines\\nMCC: 704. Dial Code: 502. Alphanumeric Sender IDs are not supported. Registration is not possible.\\n\\nAll Alphanumeric Sender IDs will be overwritten to either a random Local Long Code or Short Code to ensure delivery. Please make sure to always refer to our Acceptable Use Policy for Messaging. ', 'url': 'https://support.telnyx.com/en/articles/6574032-guatemala-sms-guidelines'}, {'id': '6573677', 'title': 'Panama: SMS Guidelines', 'body': 'Panama: SMS Guidelines\\nMCC: 714. Dial Code: 507. Alphanumeric Sender IDs are not supported. Registration is not possible.\\n\\nAll Alphanumeric Sender IDs will be overwritten to either a random Local Long Code or Short Code to ensure delivery. Please make sure to always refer to our Acceptable Use Policy for Messaging.', 'url': 'https://support.telnyx.com/en/articles/6573677-panama-sms-guidelines'}, {'id': '6573669', 'title': 'Venezuela: SMS Guidelines', 'body': 'Venezuela: SMS Guidelines\\nMCC: 734. Dial Code: 58. Alphanumeric Sender IDs are partially supported. Registration is not possible.\\n\\nAll Alphanumeric Sender IDs will be overwritten to either a random Local Long Code or Short Code to ensure delivery. Except for Network Movilnet (73406), Alpha Sender IDs will be maintained and deliver dynamically to this network. Please make sure to always refer to our Acceptable Use Policy for Messaging.', 'url': 'https://support.telnyx.com/en/articles/6573669-venezuela-sms-guidelines'}, {'id': '6570385', 'title': 'Ecuador: SMS Guidelines', 'body': 'MCC: 740. Dial Code: 593. Alphanumeric Sender IDs are partially supported. Registration is not possible.\\n\\nAll Alphanumeric Sender IDs will be overwritten to either a random Local Long Code or Short Code to ensure delivery. Except for Network CNT (74002), Alpha Sender IDs will be maintained and deliver dynamically to this network. Please make sure to always refer to our Acceptable Use Policy for Messaging.', 'url': 'https://support.telnyx.com/en/articles/6570385-ecuador-sms-guidelines'}, {'id': '6570364', 'title': 'Chile: SMS Guidelines', 'body': 'Chile: SMS Guidelines\\nMCC: 730. Dial Code: 56. Alphanumeric Sender IDs are not supported. Registration is not possible.\\n\\nAll Alphanumeric Sender IDs will be overwritten to either a random Local Long Code or Short Code to ensure delivery. Please make sure to always refer to our Acceptable Use Policy for Messaging.', 'url': 'https://support.telnyx.com/en/articles/6570364-chile-sms-guidelines'}, {'id': '6570320', 'title': 'Paraguay: SMS Guidelines', 'body': 'Paraguay: SMS Guidelines\\nMCC: 744. Dial Code: 595. Alphanumeric Sender IDs are not supported. Registration is not possible.\\n\\nAll Alphanumeric Sender IDs will be overwritten to either a random Local Long Code or Short Code to ensure delivery. Please make sure to always refer to our Acceptable Use Policy for Messaging.', 'url': 'https://support.telnyx.com/en/articles/6570320-paraguay-sms-guidelines'}, {'id': '6570309', 'title': 'Uruguay: SMS Guidelines', 'body': 'Uruguay: SMS Guidelines\\nMCC: 748. Dial Code: 598. Alphanumeric Sender IDs are not supported. Registration is not possible. \\nAll Alphanumeric Sender IDs will be overwritten to either a random Local Long Code or Short Code to ensure delivery. Please make sure to always refer to our Acceptable Use Policy for Messaging.', 'url': 'https://support.telnyx.com/en/articles/6570309-uruguay-sms-guidelines'}, {'id': '6564549', 'title': 'Peru: SMS Guidelines', 'body': 'MCC: 716. Dial Code: 51. Alphanumeric Sender IDs are not supported. Registration is not possible.\\n\\nAll Alphanumeric Sender IDs will be overwritten to either a random Local Long Code or Short Code to ensure delivery. Please make sure to always refer to our Acceptable Use Policy for Messaging.', 'url': 'https://support.telnyx.com/en/articles/6564549-peru-sms-guidelines'}, {'id': '6564249', 'title': 'Bolivia: SMS Guidelines', 'body': 'Bolivia: SMS Guidelines\\nMCC: 736. Dial Code:  591. Alphanumeric Sender IDs are not supported. Registration is not possible.\\n\\nAll Alphanumeric Sender IDs will be overwritten to either a random Local Long Code or Short Code to ensure delivery. Please make sure to always refer to our Acceptable Use Policy for Messaging.', 'url': 'https://support.telnyx.com/en/articles/6564249-bolivia-sms-guidelines'}, {'id': '6564226', 'title': 'Costa Rica: SMS Guidelines', 'body': 'Costa Rica: SMS Guidelines\\nMCC: 712. Dial Code: 506. Alphanumeric Sender IDs are not supported. Registration is not possible.\\n\\nAll Alphanumeric Sender IDs will be overwritten to either a random Local Long Code or Short Code to ensure delivery. Please make sure to always refer to our Acceptable Use Policy for Messaging.', 'url': 'https://support.telnyx.com/en/articles/6564226-costa-rica-sms-guidelines'}, {'id': '6564188', 'title': 'Argentina: SMS Guidelines', 'body': 'Argentina: SMS Guidelines\\nMCC: 722. Dial Code: 53. Alphanumeric Sender IDs are not supported. Registration is not possible.\\n\\nAll Alphanumeric Sender IDs will be overwritten to either a random Local Long Code or Short Code to ensure delivery. Please make sure to always refer to our Acceptable Use Policy for Messaging.', 'url': 'https://support.telnyx.com/en/articles/6564188-argentina-sms-guidelines'}, {'id': '6564056', 'title': 'Turkey: SMS Guidelines', 'body': 'Turkey: SMS Guidelines\\nMCC: 286. Dial Code: 90. Alphanumeric Sender IDs are supported with registration. Alphanumeric Sender ID registration is required. Gambling traffic is not allowed towards Turkey. Please make sure to always refer to our Acceptable Use Policy for Messaging. For more information on Alpha Sender ID registration kindly reach out to alpha_sender_id@telnyx.com.', 'url': 'https://support.telnyx.com/en/articles/6564056-turkey-sms-guidelines'}, {'id': '6564053', 'title': 'Moldova: SMS Guidelines', 'body': 'Moldova: SMS Guidelines\\nMCC: 259. Dial Code: 373. Alphanumeric Sender IDs are supported and will be maintained, no registration is required.\\n\\nThere are no restrictions with regards to content towards this destination.\\n\\nPlease make sure to always refer to our Acceptable Use Policy for Messaging.', 'url': 'https://support.telnyx.com/en/articles/6564053-moldova-sms-guidelines'}, {'id': '6564006', 'title': 'Luxembourg: SMS Guidelines', 'body': 'Luxembourg: SMS Guidelines\\nMCC: 270\\nDial Code: 352. Alphanumeric Sender IDs are supported and will be maintained, no registration is required.\\n\\nThere are no restrictions with regards to content towards this destination.\\n\\nPlease make sure to always refer to our Acceptable Use Policy for Messaging. ', 'url': 'https://support.telnyx.com/en/articles/6564006-luxembourg-sms-guidelines'}, {'id': '6563904', 'title': 'Ukraine: SMS Guidelines', 'body': 'Ukraine: SMS Guidelines\\nMCC: 255. Dial Code: 380. Due to the ongoing situation, SMS delivery towards Ukraine is to be considered as best-effort. Alphanumeric Sender IDs are partially supported. Registration is not possible. Occasionally Alphanumeric Sender ID might be overwritten to Random Short Code to ensure delivery. The use of generic Alpha Sender IDs is not recommended as these can be rejected or blocked by local Operators. Alphanumeric Sender IDs should be directly related to the message content. Please make sure to always refer to our Acceptable Use Policy for Messaging.', 'url': 'https://support.telnyx.com/en/articles/6563904-ukraine-sms-guidelines'}, {'id': '6563890', 'title': 'Andorra: SMS Guidelines', 'body': 'Andorra: SMS Guidelines\\nMCC: 213. Dial Code: 376. Alphanumeric Sender IDs are supported and will be maintained, no registration is required.\\n\\nThere are no restrictions with regards to content towards this destination.\\n\\nPlease make sure to always refer to our Acceptable Use Policy for Messaging.', 'url': 'https://support.telnyx.com/en/articles/6563890-andorra-sms-guidelines'}, {'id': '6563879', 'title': 'Albania: SMS Guidelines', 'body': 'Albania: SMS Guidelines\\nMCC: 276. Dial Code: 355. Alphanumeric Sender IDs are supported and will be maintained, no registration is required.\\n\\nThere are no restrictions with regards to content towards this destination.\\n\\nPlease make sure to always refer to our Acceptable Use Policy for Messaging.', 'url': 'https://support.telnyx.com/en/articles/6563879-albania-sms-guidelines'}, {'id': '6563862', 'title': 'Bulgaria: SMS Guidelines', 'body': 'MCC: 284. Dial Code: 359. Alphanumeric Sender IDs are partially supported. Registration is not possible.\\n\\nAlphanumeric Sender IDs can be overwritten to either a random Local Long Code or Short Code to ensure delivery. Please make sure to always refer to our Acceptable Use Policy for Messaging.', 'url': 'https://support.telnyx.com/en/articles/6563862-bulgaria-sms-guidelines'}, {'id': '6563843', 'title': 'Croatia: SMS Guidelines', 'body': 'Croatia: SMS Guidelines\\nMCC: 219. Dial Code: 385. Alphanumeric Sender IDs are supported and will be maintained, no registration is required.\\n\\nThere are no restrictions with regards to content towards this destination.\\n\\nPlease make sure to always refer to our Acceptable Use Policy for Messaging.', 'url': 'https://support.telnyx.com/en/articles/6563843-croatia-sms-guidelines'}, {'id': '6563817', 'title': 'Greece: SMS Guidelines', 'body': 'MCC: 202. Dial Code: 30. Alphanumeric Sender IDs are supported and will be maintained, no registration is required.\\n\\nThere are no restrictions with regards to content towards this destination.\\n\\nPlease make sure to always refer to our Acceptable Use Policy for Messaging.', 'url': 'https://support.telnyx.com/en/articles/6563817-greece-sms-guidelines'}, {'id': '6561262', 'title': 'Romania: SMS Guidelines', 'body': 'Romania: SMS Guidelines\\nMCC: 226. Dial Code: 40. Alphanumeric Sender IDs are supported with registration. Without registration, Alpha Sender IDs will be overwritten to either Short Code or Generic Alpha. Alpha Senders should be registered to ensure delivery of same Alpha Sender. Messages containing URLs as part of the content can be blocked by local operators. URL whitelisting is possible. Please make sure to always refer to our Acceptable Use Policy for Messaging. For more information on Alpha Sender ID registration kindly reach out to alpha_sender_id@telnyx.com.', 'url': 'https://support.telnyx.com/en/articles/6561262-romania-sms-guidelines'}, {'id': '6561237', 'title': 'Czech Republic (Czechia): : SMS Guidelines', 'body': 'Czech Republic (Czechia): : SMS Guidelines\\nMCC: 230. Dial Code: 420. Alpha Sender ID registration is required for Network T-Mobile (23001). Outside of this network, Alphanumeric Sender IDs might be overwritten to either Generic Alphanumeric or Numeric Sender ID. Please make sure to always refer to our Acceptable Use Policy for Messaging. For more information on Alpha Sender ID registration kindly reach out to alpha_sender_id@telnyx.com.', 'url': 'https://support.telnyx.com/en/articles/6561237-czech-republic-czechia-sms-guidelines'}, {'id': '6561206', 'title': 'Hungary: SMS Guidelines', 'body': 'MCC: 216. Dial Code: 36. Alphanumeric Sender IDs are not supported. Registration is not possible.\\n\\nAll Alphanumeric Sender IDs will be overwritten to either a random Local Long Code or Short Code to ensure delivery. Please make sure to always refer to our Acceptable Use Policy for Messaging.', 'url': 'https://support.telnyx.com/en/articles/6561206-hungary-sms-guidelines'}, {'id': '6561195', 'title': 'Slovenia: SMS Guidelines', 'body': 'Slovenia: SMS Guidelines\\nMCC: 293. Dial Code: 386. Alphanumeric Sender IDs are supported and will be maintained, no registration is required.\\n\\nThere are no restrictions with regards to content towards this destination.\\n\\nPlease make sure to always refer to our Acceptable Use Policy for Messaging.', 'url': 'https://support.telnyx.com/en/articles/6561195-slovenia-sms-guidelines'}, {'id': '6561154', 'title': 'Switzerland: SMS Guidelines', 'body': 'Switzerland: SMS Guidelines\\nMCC: 228. Dial Code: 41. Alphanumeric Sender IDs are supported and will be maintained, no registration is required.\\n\\nThere are no restrictions with regards to content towards this destination.\\n\\nPlease make sure to always refer to our Acceptable Use Policy for Messaging.', 'url': 'https://support.telnyx.com/en/articles/6561154-switzerland-sms-guidelines'}, {'id': '6561115', 'title': 'Latvia: SMS Guidelines', 'body': 'Latvia: SMS Guidelines\\nMCC: 247. Dial Code: 371. Alphanumeric Sender IDs are supported and will be maintained, no registration is required.\\n\\nThere are no restrictions with regards to content towards this destination.\\n\\nPlease make sure to always refer to our Acceptable Use Policy for Messaging.', 'url': 'https://support.telnyx.com/en/articles/6561115-latvia-sms-guidelines'}, {'id': '6560973', 'title': 'Lithuania: SMS Guidelines', 'body': 'MCC: 246. Dial Code: 370. Alphanumeric Sender IDs are supported and will be maintained, no registration is required.\\n\\nThere are no restrictions with regards to content towards this destination.\\n\\nPlease make sure to always refer to our Acceptable Use Policy for Messaging.', 'url': 'https://support.telnyx.com/en/articles/6560973-lithuania-sms-guidelines'}, {'id': '6560919', 'title': 'Estonia: SMS Guidelines', 'body': 'Estonia: SMS Guidelines\\nMCC: 248. Dial Code: 372. Alphanumeric Sender IDs are supported and will be maintained, no registration is required.\\n\\nThere are no restrictions with regards to content towards this destination.\\n\\nPlease make sure to always refer to our Acceptable Use Policy for Messaging.', 'url': 'https://support.telnyx.com/en/articles/6560919-estonia-sms-guidelines'}, {'id': '6560909', 'title': 'Iceland: SMS Guidelines', 'body': 'Iceland: SMS Guidelines\\nMCC: 274. Dial Code: 354. Alphanumeric Sender IDs are supported and will be maintained, no registration is required. Messages containing URLs as part of their content are filtered by local operators. Valid URLs can be whitelisted to ensure delivery. Lottery and Gambling related traffic is not allowed and will be blocked by local operators. Please make sure to always refer to our Acceptable Use Policy for Messaging. For more information on URL whitelisting kindly reach out to alpha_sender_id@telnyx.com.', 'url': 'https://support.telnyx.com/en/articles/6560909-iceland-sms-guidelines'}, {'id': '6560706', 'title': 'Finland: SMS Guidelines', 'body': 'MCC: 244. Dial Code: 358. Alphanumeric Sender IDs are supported and will be maintained, no registration is required. Messages containing URLs as part of their content are filtered by local operators. Valid URLs can be whitelisted to ensure delivery. Lottery and Gambling related traffic is not allowed and will be blocked by local operators. Please make sure to always refer to our Acceptable Use Policy for Messaging. For more information on URL whitelisting kindly reach out to alpha_sender_id@telnyx.com. . ', 'url': 'https://support.telnyx.com/en/articles/6560706-finland-sms-guidelines'}, {'id': '6560704', 'title': 'Norway: SMS Guidelines', 'body': 'MCC: 242. Dial Code: 47. Alphanumeric Sender IDs are supported and will be maintained, no registration is required. Messages containing URLs as part of their content are filtered by local operators. Valid URLs can be whitelisted to ensure delivery. Lottery and Gambling related traffic is not allowed and will be blocked by local operators. Please make sure to always refer to our Acceptable Use Policy for Messaging. For more information on URL whitelisting kindly reach out to alpha_sender_id@telnyx.com.', 'url': 'https://support.telnyx.com/en/articles/6560704-norway-sms-guidelines'}, {'id': '6560689', 'title': 'Sweden: SMS Guidelines', 'body': 'Sweden: SMS Guidelines\\nMCC: 240. Dial Code: 46. Alphanumeric Sender IDs are supported and will be maintained, no registration is required. Messages containing URLs as part of their content are filtered by local operators. Valid URLs can be whitelisted to ensure delivery. Lottery and Gambling related traffic is not allowed and will be blocked by local operators. Please make sure to always refer to our Acceptable Use Policy for Messaging. For more information on URL whitelisting kindly reach out to alpha_sender_id@telnyx.com.', 'url': 'https://support.telnyx.com/en/articles/6560689-sweden-sms-guidelines'}, {'id': '6560665', 'title': 'Denmark: SMS Guidelines', 'body': 'Denmark: SMS Guidelines\\nMCC: 238. Dial Code: 45. Alphanumeric Sender IDs are supported and will be maintained, no registration is required. Messages containing URLs as part of their content are filtered by local operators. Valid URLs can be whitelisted to ensure delivery. Lottery and Gambling related traffic is not allowed and will be blocked by local operators. Please make sure to always refer to our Acceptable Use Policy for Messaging. For more information on URL whitelisting kindly reach out to alpha_sender_id@telnyx.com. ', 'url': 'https://support.telnyx.com/en/articles/6560665-denmark-sms-guidelines'}, {'id': '6560660', 'title': 'Austria: SMS Guidelines', 'body': 'Austria: SMS Guidelines\\nMCC: 232. Dial Code: 43. Alphanumeric Sender IDs are supported and will be maintained, no registration is required.\\n\\nThere are no restrictions with regards to content towards this destination.\\n\\nPlease make sure to always refer to our Acceptable Use Policy for Messaging.', 'url': 'https://support.telnyx.com/en/articles/6560660-austria-sms-guidelines'}, {'id': '6545173', 'title': 'South Africa: SMS Guidelines', 'body': 'South Africa: SMS Guidelines\\nMCC: 655. Dial Code: 27 . Alphanumeric Sender IDs are not supported. Registration is not possible. All Alphanumeric Sender IDs will be overwritten to random Local Long Code. Please make sure to always refer to our Acceptable Use Policy for Messaging.', 'url': 'https://support.telnyx.com/en/articles/6545173-south-africa-sms-guidelines'}, {'id': '6545167', 'title': 'Poland: SMS Guidelines', 'body': 'MCC: 260. Dial Code: 48. Alphanumeric Sender IDs are supported and will be maintained, no registration is required.\\nThe use of generic Alpha Sender IDs is not recommended. Alpha Senders should be directly related to the message content. \\nThere are no restrictions with regards to content towards this destination.\\n\\nPlease make sure to always refer to our Acceptable Use Policy for Messaging.', 'url': 'https://support.telnyx.com/en/articles/6545167-poland-sms-guidelines'}, {'id': '6545161', 'title': 'Ireland: SMS Guidelines', 'body': 'Ireland: SMS Guidelines\\nMCC: 272. Dial Code: 353. Alphanumeric Sender IDs are supported and will be maintained, no registration is required.\\n\\nThere are no restrictions with regards to content towards this destination.\\n\\nPlease make sure to always refer to our Acceptable Use Policy for Messaging.', 'url': 'https://support.telnyx.com/en/articles/6545161-ireland-sms-guidelines'}, {'id': '6545140', 'title': 'Spain: SMS Guidelines', 'body': 'Spain: SMS Guidelines\\nMCC: 214. Dial Code: 34. Alphanumeric Sender IDs are supported and will be maintained, no registration is required.\\n\\nThere are no restrictions with regards to content towards this destination.\\n\\nPlease make sure to always refer to our Acceptable Use Policy for Messaging.', 'url': 'https://support.telnyx.com/en/articles/6545140-spain-sms-guidelines'}, {'id': '6545130', 'title': 'Portugal: SMS Guidelines', 'body': 'MCC: 268. Dial Code: 351. Alphanumeric Sender IDs are supported and will be maintained, no registration is required.\\n\\nThere are no restrictions with regards to content towards this destination.\\n\\nPlease make sure to always refer to our Acceptable Use Policy for Messaging.', 'url': 'https://support.telnyx.com/en/articles/6545130-portugal-sms-guidelines'}, {'id': '6534652', 'title': 'Colombia: SMS Guidelines', 'body': 'Colombia: SMS Guidelines\\nMCC: 732. Dial Code: 57. Alphanumeric Sender IDs are not supported. Registration is not possible. Alpha Sender IDs will be overwritten to either a random Local Long Code or Short Code. Commercial or marketing content can only be sent from 8:00am to 9:00pm. To send this type of traffic outside of these hours,  explicit consent must be provided by the end-user.\\n\\nOpt-out options must always be included. Through the words Salir or Cancelar.. Adult content must be only sent to end-users of legal age if previously requested by them. Please make sure to always refer to our Acceptable Use Policy for Messaging.', 'url': 'https://support.telnyx.com/en/articles/6534652-colombia-sms-guidelines'}, {'id': '6531722', 'title': 'Italy: SMS Guidelines', 'body': 'Italy: SMS Guidelines\\nMCC: 222. Dial Code: 39. Alphanumeric Sender IDs are supported and will be maintained, no registration is required. There are no restrictions with regards to content towards this destination.\\n\\nPlease make sure to always refer to our Acceptable Use Policy for Messaging.', 'url': 'https://support.telnyx.com/en/articles/6531722-italy-sms-guidelines'}, {'id': '6531712', 'title': 'Brazil: SMS Guidelines', 'body': 'MCC: 724. Dial Code: 55. Alpha Sender IDs will be overwritten to either a random Local Long Code or Short Code. Registration is not possible. Brazil is a destination that supports SMSC-DLR only, as such, positive DLRs are to be expected. Handset delivery reports are not possible. Please make sure to always refer to our Acceptable Use Policy for Messaging.', 'url': 'https://support.telnyx.com/en/articles/6531712-brazil-sms-guidelines'}, {'id': '6531704', 'title': 'United Kingdom: SMS Guidelines', 'body': 'MCC: 234 - 235. Dial Code: 44. Alphanumeric Sender IDs are supported and will be maintained, no registration is required. MEF Registry against potential Spam and Fraud traffic. A group of Alpha Sender IDs are protected under this registry to combat fraud, as such only authorized senders are allowed to send this traffic. LOAs are required for approval. Please make sure to always refer to our Acceptable Use Policy for Messaging.', 'url': 'https://support.telnyx.com/en/articles/6531704-united-kingdom-sms-guidelines'}, {'id': '6531682', 'title': 'Philippines: SMS Guidelines', 'body': 'Philippines: SMS Guidelines\\nMCC: 515\\nDial Code: 63. Alphanumeric Sender IDs must be pre-registered. A Letter of Authorization (LOA) must be provided (Banking, Financial Institutions). In some instances, Alpha Sender IDs will be Overwritten by local operators to optimize delivery despite being registered.\\n\\nThe use of Generic Alpha Sender IDs (i.e. Verify, OTP, InfoSMS, etc) for transactional traffic is not allowed. Submissions with generic alpha Sender IDs will be rejected by local operators.\\n\\nDue to high volumes of Spam and Phishing attempts, we highly advise for the use of Branded URLs instead of shortened URLs (i.e. bit.links). Please make sure to always refer to our Acceptable Use Policy for Messaging. For more information on Alpha Sender ID registration kindly reach out to alpha_sender_id@telnyx.com.', 'url': 'https://support.telnyx.com/en/articles/6531682-philippines-sms-guidelines'}, {'id': '6531675', 'title': 'Belgium: SMS Guidelines', 'body': 'Belgium: SMS Guidelines\\nMCC: 206. Dial Code: 32. Alphanumeric Sender IDs are not supported. Registration is not possible. \\n\\nAll Alphanumeric Sender IDs will be overwritten to either a random Local Long Code or Short Code to ensure delivery. Please make sure to always refer to our Acceptable Use Policy for Messaging.', 'url': 'https://support.telnyx.com/en/articles/6531675-belgium-sms-guidelines'}, {'id': '6531664', 'title': 'Mexico: SMS Guidelines', 'body': 'Mexico: SMS Guidelines\\nMCC: 334\\nDial Code: 52. Submissions with an Alpha Sender ID* will be overwritten to either a local long code or short code.\\n\\nAll promotional traffic should always include clear OPT-OUT options.\\n\\n*Implementation of Alpha Sender ID registration for this destination is relatively new. It is not mandatory, however for AlphaDynamic capabilities, agreements in minimum monthly volume (to be confirmed) are required for the Alpha Sender ID to be maintained. Telnyx advises on registration only if volumes can be maintained. Please make sure to always refer to our Acceptable Use Policy for Messaging.', 'url': 'https://support.telnyx.com/en/articles/6531664-mexico-sms-guidelines'}, {'id': '6531656', 'title': 'Australia: SMS Guidelines', 'body': 'Australia: SMS Guidelines\\n\\nMCC: 505. Dial code: 61. There are strict measures in place to help combat spam. As such all commercial traffic should be compliant according to the Australian Spam Act 2003. Mandatory registration of Alphanumeric Sender IDs has been implemented by the Australia Communications and Media Authority (ACMA), this, as part of a recent update on their SPAM Act. Effective May 8th all messages sent with non-registered Alphanumeric Sender IDs will be blocked.. Information on Alphanumeric Sender ID registration:.         - Please complete the attached form and return to alpha_sender_id@telnyx.com, along with a copy of your Business Registration.         - Companies must have a valid business case for the requested Alphanumeric Sender ID. If the relationship between your company/brand and the requested Alphanumeric Sender ID is not clear, please provide additional supporting documentation detailing your business case.        - In case that the registration is being made on behalf of a customer, a signed LOA (letter of Authorisation) needs to be provided to confirm the legitimacy of the request.. Additional recommendations:.          - Consent (Proof for Opt-in) should be obtained before sending any communications, i.e. Marketing SMS.          - Traffic should include clear Opt-Out options. Please make sure to always refer to our Acceptable Use Policy for Messaging. For more information on Alpha Sender ID registration kindly reach out to alpha_sender_id@telnyx.com.', 'url': 'https://support.telnyx.com/en/articles/6531656-australia-sms-guidelines'}, {'id': '6531603', 'title': 'France: SMS Guidelines', 'body': 'France: SMS Guidelines\\nMCC: 208. Dial Code: 33. Alphanumeric Sender IDs are supported and will be maintained, no registration is required. \\n\\nTelnyx advises on the use of Alphanumeric Sender IDs for all A2P traffic towards this destination. \\n\\nWhen sending towards MVNO NRJ (20826) and Truphone (20812) Alphanumeric Sender IDs will be replaced by either a random local number or a Short Code.\\n\\nLocal Operators do not allow marketing/promotional traffic to be sent on Sundays and French Public Holidays, between 10 pm and 8 am. Any messages attempted during this time will be queued and delivery will be attempted afterwards.\\n\\nAll marketing/promotional traffic should include a clear option to opt-out as part of the message content. Fragment STOP au 36179 must be added at the end of the message. If missing, this will be added automatically. \\nAnti-Phishing measures:. In an attempt to fight the increase in SMS Phishing and Fraud attempts, French operators have implemented an additional check (Whitelisting) on a group of Alpha Numeric Sender IDs. Traffic using the aforementioned Alphanumeric Sender IDs will only be possible through the submission of a duly signed Letter of Authorization.  . Please make sure to always refer to our Acceptable Use Policy for Messaging.', 'url': 'https://support.telnyx.com/en/articles/6531603-france-sms-guidelines'}, {'id': '6531581', 'title': 'The Netherlands: SMS Guidelines', 'body': 'The Netherlands: SMS Guidelines\\nMCC: 204. Dial Code: 31. Alphanumeric Sender IDs are supported and will be maintained, no registration is required. \\n\\nThere are no restrictions with regards to content towards this destination.\\n\\nPlease make sure to always refer to our Acceptable Use Policy for Messaging. ', 'url': 'https://support.telnyx.com/en/articles/6531581-the-netherlands-sms-guidelines'}]\n"
          ]
        }
      ]
    },
    {
      "cell_type": "code",
      "source": [
        "data3[0]"
      ],
      "metadata": {
        "colab": {
          "base_uri": "https://localhost:8080/"
        },
        "id": "lPF5NKg3ML-n",
        "outputId": "af9366f9-d66b-4fce-96f3-0ec0e65124a3"
      },
      "execution_count": 21,
      "outputs": [
        {
          "output_type": "execute_result",
          "data": {
            "text/plain": [
              "{'id': '6683745',\n",
              " 'title': 'Serbia: SMS Guidelines',\n",
              " 'body': 'Serbia: SMS Guidelines\\nMCC: 220. Dial Code: 381. Alphanumeric Sender IDs are supported with registration. Registration is possible to ensure Alphanumeric Senders can be maintained. Without registration, Alpha Senders will be overwritten to Generic Alpha Sender IDs. The registration of Alphanumeric Senders involves monthly fees. Please make sure to always refer to our Acceptable Use Policy for Messaging. For more information on Alpha Sender ID registration kindly reach out to alpha_sender_id@telnyx.com. ',\n",
              " 'url': 'https://support.telnyx.com/en/articles/6683745-serbia-sms-guidelines'}"
            ]
          },
          "metadata": {},
          "execution_count": 21
        }
      ]
    },
    {
      "cell_type": "markdown",
      "source": [
        "### 4) Making sure each 'body' content includes the country's name\n",
        "\n",
        "Most 'body' sections start with the country's name, but some don't."
      ],
      "metadata": {
        "id": "k83hnJJaMSOt"
      }
    },
    {
      "cell_type": "code",
      "source": [
        "data3[0]['title']"
      ],
      "metadata": {
        "colab": {
          "base_uri": "https://localhost:8080/",
          "height": 35
        },
        "id": "7yKP67m9M6AE",
        "outputId": "10ba762a-4aaf-460c-b725-6769443bde70"
      },
      "execution_count": 22,
      "outputs": [
        {
          "output_type": "execute_result",
          "data": {
            "text/plain": [
              "'Serbia: SMS Guidelines'"
            ],
            "application/vnd.google.colaboratory.intrinsic+json": {
              "type": "string"
            }
          },
          "metadata": {},
          "execution_count": 22
        }
      ]
    },
    {
      "cell_type": "code",
      "source": [
        "data3[0]['title'] in data3[0]['body']"
      ],
      "metadata": {
        "colab": {
          "base_uri": "https://localhost:8080/"
        },
        "id": "IvHFEx21M99Y",
        "outputId": "68943432-f842-4178-9395-72fe754b6a36"
      },
      "execution_count": 23,
      "outputs": [
        {
          "output_type": "execute_result",
          "data": {
            "text/plain": [
              "True"
            ]
          },
          "metadata": {},
          "execution_count": 23
        }
      ]
    },
    {
      "cell_type": "code",
      "source": [
        "# let us find the country dicts\n",
        "# in which the country is not mentioned in the body\n",
        "\n",
        "# loop through all states\n",
        "for state in data3:\n",
        "  # if title not in body\n",
        "  if state['title'] not in state['body']:\n",
        "    # print title\n",
        "    print(state['title'])"
      ],
      "metadata": {
        "colab": {
          "base_uri": "https://localhost:8080/"
        },
        "id": "Jg3TxAXJMfbN",
        "outputId": "0f8eb8f3-023b-443e-c7fe-0427d59e4005"
      },
      "execution_count": 24,
      "outputs": [
        {
          "output_type": "stream",
          "name": "stdout",
          "text": [
            "Yemen: SMS Guidelines\n",
            "Uganda: SMS Guidelines\n",
            "Turks and Caicos Islands: SMS Guidelines\n",
            "Turkmenistan: SMS Guidelines\n",
            "Syria: SMS Guidelines\n",
            "Singapore: SMS Guidelines\n",
            "Sierra Leone: SMS Guidelines\n",
            "Saint Kitts & Nevis: SMS Guidelines\n",
            "Palestinian Territory: SMS Guidelines\n",
            "Palau: SMS Guidelines\n",
            "Namibia: SMS Guidelines\n",
            "Myanmar: SMS Guidelines\n",
            "Mozambique: SMS Guidelines\n",
            "Montserrat: SMS Guidelines\n",
            "Mongolia: SMS Guidelines\n",
            "Monaco: SMS Guidelines\n",
            "Mauritius: SMS Guidelines\n",
            "Mauritania: SMS Guidelines\n",
            "Madagascar: SMS Guidelines\n",
            "Laos PDR: SMS Guidelines\n",
            "Kyrgyzstan: SMS Guidelines\n",
            "Indonesia: SMS Guidelines\n",
            "India: SMS Guidelines\n",
            "Greenland: SMS Guidelines\n",
            "Ghana: SMS Guidelines\n",
            "Gambia: SMS Guidelines\n",
            "Fiji: SMS Guidelines\n",
            "Eritrea: SMS Guidelines\n",
            "Cook Islands: SMS Guidelines\n",
            "Congo: SMS Guidelines\n",
            "China: SMS Guidelines\n",
            "Chad: SMS Guidelines\n",
            "Cape Verde: SMS Guidelines\n",
            "Burundi: SMS Guidelines\n",
            "Bangladesh: SMS Guidelines\n",
            "American Samoa: SMS Guidelines\n",
            "Suriname: SMS Guidelines\n",
            "Iraq: SMS Guidelines\n",
            "Ecuador: SMS Guidelines\n",
            "Peru: SMS Guidelines\n",
            "Bulgaria: SMS Guidelines\n",
            "Greece: SMS Guidelines\n",
            "Hungary: SMS Guidelines\n",
            "Lithuania: SMS Guidelines\n",
            "Finland: SMS Guidelines\n",
            "Norway: SMS Guidelines\n",
            "Poland: SMS Guidelines\n",
            "Portugal: SMS Guidelines\n",
            "Brazil: SMS Guidelines\n",
            "United Kingdom: SMS Guidelines\n"
          ]
        }
      ]
    },
    {
      "cell_type": "code",
      "source": [
        "# Example of a dict with missing country name in the body section\n",
        "for state in data3:\n",
        "  if state['id'] == '6545167':\n",
        "    print(state)"
      ],
      "metadata": {
        "colab": {
          "base_uri": "https://localhost:8080/"
        },
        "id": "4gWz_eAZFYJ-",
        "outputId": "40626637-cd15-47a1-b116-4aa8fed36141"
      },
      "execution_count": 25,
      "outputs": [
        {
          "output_type": "stream",
          "name": "stdout",
          "text": [
            "{'id': '6545167', 'title': 'Poland: SMS Guidelines', 'body': 'MCC: 260. Dial Code: 48. Alphanumeric Sender IDs are supported and will be maintained, no registration is required.\\nThe use of generic Alpha Sender IDs is not recommended. Alpha Senders should be directly related to the message content. \\nThere are no restrictions with regards to content towards this destination.\\n\\nPlease make sure to always refer to our Acceptable Use Policy for Messaging.', 'url': 'https://support.telnyx.com/en/articles/6545167-poland-sms-guidelines'}\n"
          ]
        }
      ]
    },
    {
      "cell_type": "code",
      "source": [
        "# loop through all states\n",
        "for state in data3:\n",
        "  # if title not in body\n",
        "  if state['title'] not in state['body']:\n",
        "    # add title string to body\n",
        "    state['body'] = state['title'] + '. ' + state['body']"
      ],
      "metadata": {
        "id": "2elKVWfMN2Qc"
      },
      "execution_count": 26,
      "outputs": []
    },
    {
      "cell_type": "code",
      "source": [
        "# save the updated documentation file\n",
        "with open('documentation4.json', 'w') as outfile:\n",
        "    json.dump(data3, outfile, indent=4)"
      ],
      "metadata": {
        "id": "HgZXqlpcOXrn"
      },
      "execution_count": 27,
      "outputs": []
    },
    {
      "cell_type": "code",
      "source": [
        "# open updated documentation file\n",
        "with open('documentation4.json') as f:\n",
        "  data4 = json.load(f)"
      ],
      "metadata": {
        "id": "6cphJ_-bOfpk"
      },
      "execution_count": 28,
      "outputs": []
    },
    {
      "cell_type": "code",
      "source": [
        "# Confirm that the country name is now present in the 'body'\n",
        "for state in data4:\n",
        "  if state['id'] == '6545167':\n",
        "    print(state)"
      ],
      "metadata": {
        "colab": {
          "base_uri": "https://localhost:8080/"
        },
        "id": "fWqCjS93P1ZZ",
        "outputId": "4f20286f-4fc3-48a2-f86f-2ede6d62bb84"
      },
      "execution_count": 29,
      "outputs": [
        {
          "output_type": "stream",
          "name": "stdout",
          "text": [
            "{'id': '6545167', 'title': 'Poland: SMS Guidelines', 'body': 'Poland: SMS Guidelines. MCC: 260. Dial Code: 48. Alphanumeric Sender IDs are supported and will be maintained, no registration is required.\\nThe use of generic Alpha Sender IDs is not recommended. Alpha Senders should be directly related to the message content. \\nThere are no restrictions with regards to content towards this destination.\\n\\nPlease make sure to always refer to our Acceptable Use Policy for Messaging.', 'url': 'https://support.telnyx.com/en/articles/6545167-poland-sms-guidelines'}\n"
          ]
        }
      ]
    },
    {
      "cell_type": "markdown",
      "source": [
        "### 5) Removing newlines"
      ],
      "metadata": {
        "id": "4kzG62ZmWIKg"
      }
    },
    {
      "cell_type": "code",
      "source": [
        "for state in data4:\n",
        "  state['body'] = state['body'].replace('.\\n\\n', '. ').replace('\\n', '. ')"
      ],
      "metadata": {
        "id": "z8qr44CpWHcX"
      },
      "execution_count": 30,
      "outputs": []
    },
    {
      "cell_type": "code",
      "source": [
        "data4[0]"
      ],
      "metadata": {
        "colab": {
          "base_uri": "https://localhost:8080/"
        },
        "id": "Mqze_wuYW09G",
        "outputId": "8cbc6904-3883-4688-c59c-912e908e0c7b"
      },
      "execution_count": 31,
      "outputs": [
        {
          "output_type": "execute_result",
          "data": {
            "text/plain": [
              "{'id': '6683745',\n",
              " 'title': 'Serbia: SMS Guidelines',\n",
              " 'body': 'Serbia: SMS Guidelines. MCC: 220. Dial Code: 381. Alphanumeric Sender IDs are supported with registration. Registration is possible to ensure Alphanumeric Senders can be maintained. Without registration, Alpha Senders will be overwritten to Generic Alpha Sender IDs. The registration of Alphanumeric Senders involves monthly fees. Please make sure to always refer to our Acceptable Use Policy for Messaging. For more information on Alpha Sender ID registration kindly reach out to alpha_sender_id@telnyx.com. ',\n",
              " 'url': 'https://support.telnyx.com/en/articles/6683745-serbia-sms-guidelines'}"
            ]
          },
          "metadata": {},
          "execution_count": 31
        }
      ]
    },
    {
      "cell_type": "code",
      "source": [
        "data4[1]"
      ],
      "metadata": {
        "colab": {
          "base_uri": "https://localhost:8080/"
        },
        "id": "kH5ExB6ncHWT",
        "outputId": "dc469d0d-9ebd-4d38-cc60-2fedd3e24926"
      },
      "execution_count": 32,
      "outputs": [
        {
          "output_type": "execute_result",
          "data": {
            "text/plain": [
              "{'id': '6683734',\n",
              " 'title': 'Republic of Korea (South Korea): SMS Guidelines',\n",
              " 'body': 'Republic of Korea (South Korea): SMS Guidelines. MCC: 450. Dial Code: 82. Alphanumeric Sender IDs are not supported. Registration is not possible. All Alphanumeric Sender IDs will be overwritten to a random Local Long Code  to ensure delivery. All messages to this destination will have the following text added by default:. [Web 발신] : This indicates A2P traffic[국제발신]: This indicates that the message has been sent from abroad. Gambling and Adult content is not permitted. Please make sure to always refer to our Acceptable Use Policy for Messaging.',\n",
              " 'url': 'https://support.telnyx.com/en/articles/6683734-republic-of-korea-south-korea-sms-guidelines'}"
            ]
          },
          "metadata": {},
          "execution_count": 32
        }
      ]
    },
    {
      "cell_type": "code",
      "source": [
        "# save the updated json file\n",
        "with open('preprocessed.json', 'w') as outfile:\n",
        "    json.dump(data4, outfile, indent=4)"
      ],
      "metadata": {
        "id": "6D8vQg5EWxOC"
      },
      "execution_count": 33,
      "outputs": []
    },
    {
      "cell_type": "code",
      "source": [
        "ls"
      ],
      "metadata": {
        "id": "0jPIzktJIX7W",
        "outputId": "b51c1712-20b2-4ccd-bf06-9b6eddf88778",
        "colab": {
          "base_uri": "https://localhost:8080/"
        }
      },
      "execution_count": 34,
      "outputs": [
        {
          "output_type": "stream",
          "name": "stdout",
          "text": [
            "documentation2.json  documentation4.json  preprocessed.json\n",
            "documentation3.json  documentation.json   \u001b[0m\u001b[01;34msample_data\u001b[0m/\n"
          ]
        }
      ]
    }
  ]
}