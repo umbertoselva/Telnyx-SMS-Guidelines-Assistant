{
  "nbformat": 4,
  "nbformat_minor": 0,
  "metadata": {
    "colab": {
      "provenance": []
    },
    "kernelspec": {
      "name": "python3",
      "display_name": "Python 3"
    },
    "language_info": {
      "name": "python"
    }
  },
  "cells": [
    {
      "cell_type": "markdown",
      "source": [
        "## Preprocessing"
      ],
      "metadata": {
        "id": "PLb_0yr7JjBO"
      }
    },
    {
      "cell_type": "markdown",
      "source": [
        "\n",
        "\n",
        "1. Inspecting the documentation\n",
        "2. Removing duplicates\n",
        "2. Removing the HTML tags from the 'body' content\n",
        "3. Making sure each 'body' content includes the country's name\n",
        "4. Removing newlines\n",
        "\n"
      ],
      "metadata": {
        "id": "ws4B5c7kk5C8"
      }
    },
    {
      "cell_type": "markdown",
      "source": [
        "### 1) Inspecting the documentation"
      ],
      "metadata": {
        "id": "jkxwc19U7kiE"
      }
    },
    {
      "cell_type": "code",
      "source": [
        "ls"
      ],
      "metadata": {
        "colab": {
          "base_uri": "https://localhost:8080/"
        },
        "id": "Sy7GWu_FKaze",
        "outputId": "7b15fe84-a3f4-43f5-b082-f4305887fccf"
      },
      "execution_count": 1,
      "outputs": [
        {
          "output_type": "stream",
          "name": "stdout",
          "text": [
            "documentation2.json  documentation4.json  preprocessed.json\n",
            "documentation3.json  documentation.json   \u001b[0m\u001b[01;34msample_data\u001b[0m/\n"
          ]
        }
      ]
    },
    {
      "cell_type": "code",
      "source": [
        "import json"
      ],
      "metadata": {
        "id": "kHNpEWy1KuX9"
      },
      "execution_count": 2,
      "outputs": []
    },
    {
      "cell_type": "code",
      "execution_count": 3,
      "metadata": {
        "id": "3r0CDpmtJY1v"
      },
      "outputs": [],
      "source": [
        "with open('documentation.json') as f:\n",
        "  data = json.load(f)"
      ]
    },
    {
      "cell_type": "code",
      "source": [
        "type(data)"
      ],
      "metadata": {
        "colab": {
          "base_uri": "https://localhost:8080/"
        },
        "id": "87CSBU__Jn45",
        "outputId": "cebd1ac5-665d-4575-d21f-3c1f80b70cbc"
      },
      "execution_count": 4,
      "outputs": [
        {
          "output_type": "execute_result",
          "data": {
            "text/plain": [
              "list"
            ]
          },
          "metadata": {},
          "execution_count": 4
        }
      ]
    },
    {
      "cell_type": "code",
      "source": [
        "# data"
      ],
      "metadata": {
        "id": "8-rRAM9hJn58"
      },
      "execution_count": 5,
      "outputs": []
    },
    {
      "cell_type": "code",
      "source": [
        "len(data)"
      ],
      "metadata": {
        "colab": {
          "base_uri": "https://localhost:8080/"
        },
        "id": "IyoLChLdJn7z",
        "outputId": "497bee29-422d-4ab0-e2b6-a481a19ac7ac"
      },
      "execution_count": 6,
      "outputs": [
        {
          "output_type": "execute_result",
          "data": {
            "text/plain": [
              "414"
            ]
          },
          "metadata": {},
          "execution_count": 6
        }
      ]
    },
    {
      "cell_type": "code",
      "source": [
        "data[0]"
      ],
      "metadata": {
        "colab": {
          "base_uri": "https://localhost:8080/"
        },
        "id": "YLmvhgSEJn-g",
        "outputId": "e010ad1e-1639-4f81-c9e2-f2f79a0c48b1"
      },
      "execution_count": 7,
      "outputs": [
        {
          "output_type": "execute_result",
          "data": {
            "text/plain": [
              "{'id': '6683745',\n",
              " 'title': 'Serbia: SMS Guidelines',\n",
              " 'body': '<h1 id=\"h_7b0806db4c\"><b>Serbia: SMS Guidelines</b></h1>\\n<p class=\"no-margin\"><b>MCC: </b>220<br><b>Dial Code: </b>381<br><br>Alphanumeric Sender IDs are supported with registration. <br><br>Registration is possible to ensure Alphanumeric Senders can be maintained. Without registration, Alpha Senders will be overwritten to Generic Alpha Sender IDs. <br><br>The registration of Alphanumeric Senders involves monthly fees.<br><br>Please make sure to always refer to our <a href=\"https://app.intercom.com/\" target=\"_blank\" class=\"intercom-content-link\">Acceptable Use Policy for Messaging</a>.<br><br>For more information on Alpha Sender ID registration kindly reach out to <a href=\"mailto:alpha_sender_id@telnyx.com\" target=\"_blank\" class=\"intercom-content-link\">alpha_sender_id@telnyx.com</a>.<br><br></p>',\n",
              " 'url': 'https://support.telnyx.com/en/articles/6683745-serbia-sms-guidelines'}"
            ]
          },
          "metadata": {},
          "execution_count": 7
        }
      ]
    },
    {
      "cell_type": "code",
      "source": [
        "type(data[0])"
      ],
      "metadata": {
        "colab": {
          "base_uri": "https://localhost:8080/"
        },
        "id": "UjMC5g81JoBn",
        "outputId": "3ca89066-81de-47cf-88d5-0509253cc6fc"
      },
      "execution_count": 8,
      "outputs": [
        {
          "output_type": "execute_result",
          "data": {
            "text/plain": [
              "dict"
            ]
          },
          "metadata": {},
          "execution_count": 8
        }
      ]
    },
    {
      "cell_type": "markdown",
      "source": [
        "### 2) Removing duplicates"
      ],
      "metadata": {
        "id": "nChK3SMtJ0af"
      }
    },
    {
      "cell_type": "code",
      "source": [
        "new_data = []\n",
        "\n",
        "# loop through each dict\n",
        "for state in data:\n",
        "  # check if we have encountered this state yet\n",
        "  if state not in new_data:\n",
        "    # if not, append it to the list\n",
        "    new_data.append(state)"
      ],
      "metadata": {
        "id": "AtOhJaggJ0yY"
      },
      "execution_count": 9,
      "outputs": []
    },
    {
      "cell_type": "code",
      "source": [
        "len(new_data)"
      ],
      "metadata": {
        "colab": {
          "base_uri": "https://localhost:8080/"
        },
        "id": "-nXguXBkJ0zN",
        "outputId": "e81dab03-e107-48e0-c623-8646034b14f2"
      },
      "execution_count": 10,
      "outputs": [
        {
          "output_type": "execute_result",
          "data": {
            "text/plain": [
              "212"
            ]
          },
          "metadata": {},
          "execution_count": 10
        }
      ]
    },
    {
      "cell_type": "code",
      "source": [
        "new_data[0]"
      ],
      "metadata": {
        "colab": {
          "base_uri": "https://localhost:8080/"
        },
        "id": "AiHVl6HiJ018",
        "outputId": "25e4e6b3-f935-463b-8721-275a03d59cac"
      },
      "execution_count": 11,
      "outputs": [
        {
          "output_type": "execute_result",
          "data": {
            "text/plain": [
              "{'id': '6683745',\n",
              " 'title': 'Serbia: SMS Guidelines',\n",
              " 'body': '<h1 id=\"h_7b0806db4c\"><b>Serbia: SMS Guidelines</b></h1>\\n<p class=\"no-margin\"><b>MCC: </b>220<br><b>Dial Code: </b>381<br><br>Alphanumeric Sender IDs are supported with registration. <br><br>Registration is possible to ensure Alphanumeric Senders can be maintained. Without registration, Alpha Senders will be overwritten to Generic Alpha Sender IDs. <br><br>The registration of Alphanumeric Senders involves monthly fees.<br><br>Please make sure to always refer to our <a href=\"https://app.intercom.com/\" target=\"_blank\" class=\"intercom-content-link\">Acceptable Use Policy for Messaging</a>.<br><br>For more information on Alpha Sender ID registration kindly reach out to <a href=\"mailto:alpha_sender_id@telnyx.com\" target=\"_blank\" class=\"intercom-content-link\">alpha_sender_id@telnyx.com</a>.<br><br></p>',\n",
              " 'url': 'https://support.telnyx.com/en/articles/6683745-serbia-sms-guidelines'}"
            ]
          },
          "metadata": {},
          "execution_count": 11
        }
      ]
    },
    {
      "cell_type": "code",
      "source": [
        "# save the updated json file\n",
        "with open('documentation2.json', 'w') as outfile:\n",
        "    json.dump(new_data, outfile, indent=4)"
      ],
      "metadata": {
        "id": "8pJ8jCzNJ04a"
      },
      "execution_count": 12,
      "outputs": []
    },
    {
      "cell_type": "code",
      "source": [
        "# open updated json file\n",
        "with open('documentation2.json') as f:\n",
        "  data2 = json.load(f)"
      ],
      "metadata": {
        "id": "w6lpVZxcKTrE"
      },
      "execution_count": 13,
      "outputs": []
    },
    {
      "cell_type": "code",
      "source": [
        "len(data2)"
      ],
      "metadata": {
        "colab": {
          "base_uri": "https://localhost:8080/"
        },
        "id": "XF7Ev3LZKWY2",
        "outputId": "ae2d0e8c-b740-45a1-8571-9ce7966aff6c"
      },
      "execution_count": 14,
      "outputs": [
        {
          "output_type": "execute_result",
          "data": {
            "text/plain": [
              "212"
            ]
          },
          "metadata": {},
          "execution_count": 14
        }
      ]
    },
    {
      "cell_type": "markdown",
      "source": [
        "### 3) Removing the HTML tags from the 'body' content"
      ],
      "metadata": {
        "id": "xWdY7nibLWsQ"
      }
    },
    {
      "cell_type": "code",
      "source": [
        "from bs4 import BeautifulSoup"
      ],
      "metadata": {
        "id": "J3umyQ4ELnRU"
      },
      "execution_count": 15,
      "outputs": []
    },
    {
      "cell_type": "code",
      "source": [
        "# example for a single dict's 'body' content\n",
        "BeautifulSoup(data2[0]['body'].replace('<br><b>', '. ').replace('. <br><br>', '. ').replace('.<br><br>', '. ').replace('<br><br>', '. '), 'html.parser').text"
      ],
      "metadata": {
        "colab": {
          "base_uri": "https://localhost:8080/",
          "height": 143
        },
        "id": "xw0ZcfTCLh-b",
        "outputId": "8d6eed2b-1913-4b27-9adf-a4e548cfc714"
      },
      "execution_count": 16,
      "outputs": [
        {
          "output_type": "execute_result",
          "data": {
            "text/plain": [
              "'Serbia: SMS Guidelines\\nMCC: 220. Dial Code: 381. Alphanumeric Sender IDs are supported with registration. Registration is possible to ensure Alphanumeric Senders can be maintained. Without registration, Alpha Senders will be overwritten to Generic Alpha Sender IDs. The registration of Alphanumeric Senders involves monthly fees. Please make sure to always refer to our Acceptable Use Policy for Messaging. For more information on Alpha Sender ID registration kindly reach out to alpha_sender_id@telnyx.com. '"
            ],
            "application/vnd.google.colaboratory.intrinsic+json": {
              "type": "string"
            }
          },
          "metadata": {},
          "execution_count": 16
        }
      ]
    },
    {
      "cell_type": "code",
      "source": [
        "# remove html from all 'body' content\n",
        "for state in data2:\n",
        "  state['body'] = BeautifulSoup(state['body'].replace('<br><b>', '. ').replace('. <br><br>', '. ').replace('.<br><br>', '. ').replace('<br><br>', '. '), 'html.parser').text"
      ],
      "metadata": {
        "id": "UaZFyxAzLw8k"
      },
      "execution_count": 17,
      "outputs": []
    },
    {
      "cell_type": "code",
      "source": [
        "# save the updated json file\n",
        "with open('documentation3.json', 'w') as outfile:\n",
        "    json.dump(data2, outfile, indent=4)"
      ],
      "metadata": {
        "id": "kIOwslohL61h"
      },
      "execution_count": 18,
      "outputs": []
    },
    {
      "cell_type": "code",
      "source": [
        "# open the updated file\n",
        "with open('documentation3.json') as f:\n",
        "  data3 = json.load(f)"
      ],
      "metadata": {
        "id": "8QiWDyVVMC3r"
      },
      "execution_count": 19,
      "outputs": []
    },
    {
      "cell_type": "code",
      "source": [
        "# print(data3)"
      ],
      "metadata": {
        "id": "7VwdCicJMH2e"
      },
      "execution_count": 20,
      "outputs": []
    },
    {
      "cell_type": "code",
      "source": [
        "data3[0]"
      ],
      "metadata": {
        "colab": {
          "base_uri": "https://localhost:8080/"
        },
        "id": "lPF5NKg3ML-n",
        "outputId": "defa1bff-b3a0-415f-ace2-719969222fe8"
      },
      "execution_count": 21,
      "outputs": [
        {
          "output_type": "execute_result",
          "data": {
            "text/plain": [
              "{'id': '6683745',\n",
              " 'title': 'Serbia: SMS Guidelines',\n",
              " 'body': 'Serbia: SMS Guidelines\\nMCC: 220. Dial Code: 381. Alphanumeric Sender IDs are supported with registration. Registration is possible to ensure Alphanumeric Senders can be maintained. Without registration, Alpha Senders will be overwritten to Generic Alpha Sender IDs. The registration of Alphanumeric Senders involves monthly fees. Please make sure to always refer to our Acceptable Use Policy for Messaging. For more information on Alpha Sender ID registration kindly reach out to alpha_sender_id@telnyx.com. ',\n",
              " 'url': 'https://support.telnyx.com/en/articles/6683745-serbia-sms-guidelines'}"
            ]
          },
          "metadata": {},
          "execution_count": 21
        }
      ]
    },
    {
      "cell_type": "markdown",
      "source": [
        "### 4) Making sure each 'body' content includes the country's name\n",
        "\n",
        "Most 'body' sections start with the country's name, but some don't."
      ],
      "metadata": {
        "id": "k83hnJJaMSOt"
      }
    },
    {
      "cell_type": "code",
      "source": [
        "data3[0]['title']"
      ],
      "metadata": {
        "colab": {
          "base_uri": "https://localhost:8080/",
          "height": 35
        },
        "id": "7yKP67m9M6AE",
        "outputId": "d5109a9b-80ef-4d78-801f-56e61ce58d1d"
      },
      "execution_count": 22,
      "outputs": [
        {
          "output_type": "execute_result",
          "data": {
            "text/plain": [
              "'Serbia: SMS Guidelines'"
            ],
            "application/vnd.google.colaboratory.intrinsic+json": {
              "type": "string"
            }
          },
          "metadata": {},
          "execution_count": 22
        }
      ]
    },
    {
      "cell_type": "code",
      "source": [
        "data3[0]['title'] in data3[0]['body']"
      ],
      "metadata": {
        "colab": {
          "base_uri": "https://localhost:8080/"
        },
        "id": "IvHFEx21M99Y",
        "outputId": "84f438bf-6fdc-4f39-ede0-705f0f676023"
      },
      "execution_count": 23,
      "outputs": [
        {
          "output_type": "execute_result",
          "data": {
            "text/plain": [
              "True"
            ]
          },
          "metadata": {},
          "execution_count": 23
        }
      ]
    },
    {
      "cell_type": "code",
      "source": [
        "# let us find the country dicts\n",
        "# in which the country is not mentioned in the body\n",
        "\n",
        "# loop through all states\n",
        "for state in data3:\n",
        "  # if title not in body\n",
        "  if state['title'] not in state['body']:\n",
        "    # print title\n",
        "    print(state['title'])"
      ],
      "metadata": {
        "colab": {
          "base_uri": "https://localhost:8080/"
        },
        "id": "Jg3TxAXJMfbN",
        "outputId": "7ee72300-1e8a-4f99-98ae-614e55f5e7d8"
      },
      "execution_count": 24,
      "outputs": [
        {
          "output_type": "stream",
          "name": "stdout",
          "text": [
            "Yemen: SMS Guidelines\n",
            "Uganda: SMS Guidelines\n",
            "Turks and Caicos Islands: SMS Guidelines\n",
            "Turkmenistan: SMS Guidelines\n",
            "Syria: SMS Guidelines\n",
            "Singapore: SMS Guidelines\n",
            "Sierra Leone: SMS Guidelines\n",
            "Saint Kitts & Nevis: SMS Guidelines\n",
            "Palestinian Territory: SMS Guidelines\n",
            "Palau: SMS Guidelines\n",
            "Namibia: SMS Guidelines\n",
            "Myanmar: SMS Guidelines\n",
            "Mozambique: SMS Guidelines\n",
            "Montserrat: SMS Guidelines\n",
            "Mongolia: SMS Guidelines\n",
            "Monaco: SMS Guidelines\n",
            "Mauritius: SMS Guidelines\n",
            "Mauritania: SMS Guidelines\n",
            "Madagascar: SMS Guidelines\n",
            "Laos PDR: SMS Guidelines\n",
            "Kyrgyzstan: SMS Guidelines\n",
            "Indonesia: SMS Guidelines\n",
            "India: SMS Guidelines\n",
            "Greenland: SMS Guidelines\n",
            "Ghana: SMS Guidelines\n",
            "Gambia: SMS Guidelines\n",
            "Fiji: SMS Guidelines\n",
            "Eritrea: SMS Guidelines\n",
            "Cook Islands: SMS Guidelines\n",
            "Congo: SMS Guidelines\n",
            "China: SMS Guidelines\n",
            "Chad: SMS Guidelines\n",
            "Cape Verde: SMS Guidelines\n",
            "Burundi: SMS Guidelines\n",
            "Bangladesh: SMS Guidelines\n",
            "American Samoa: SMS Guidelines\n",
            "Suriname: SMS Guidelines\n",
            "Iraq: SMS Guidelines\n",
            "Ecuador: SMS Guidelines\n",
            "Peru: SMS Guidelines\n",
            "Bulgaria: SMS Guidelines\n",
            "Greece: SMS Guidelines\n",
            "Hungary: SMS Guidelines\n",
            "Lithuania: SMS Guidelines\n",
            "Finland: SMS Guidelines\n",
            "Norway: SMS Guidelines\n",
            "Poland: SMS Guidelines\n",
            "Portugal: SMS Guidelines\n",
            "Brazil: SMS Guidelines\n",
            "United Kingdom: SMS Guidelines\n"
          ]
        }
      ]
    },
    {
      "cell_type": "code",
      "source": [
        "# Example of a dict with missing country name in the body section\n",
        "for state in data3:\n",
        "  if state['id'] == '6545167':\n",
        "    print(state)"
      ],
      "metadata": {
        "colab": {
          "base_uri": "https://localhost:8080/"
        },
        "id": "4gWz_eAZFYJ-",
        "outputId": "7522491f-545b-44b6-8155-c25bf163f52b"
      },
      "execution_count": 25,
      "outputs": [
        {
          "output_type": "stream",
          "name": "stdout",
          "text": [
            "{'id': '6545167', 'title': 'Poland: SMS Guidelines', 'body': 'MCC: 260. Dial Code: 48. Alphanumeric Sender IDs are supported and will be maintained, no registration is required.\\nThe use of generic Alpha Sender IDs is not recommended. Alpha Senders should be directly related to the message content. \\nThere are no restrictions with regards to content towards this destination.\\n\\nPlease make sure to always refer to our Acceptable Use Policy for Messaging.', 'url': 'https://support.telnyx.com/en/articles/6545167-poland-sms-guidelines'}\n"
          ]
        }
      ]
    },
    {
      "cell_type": "code",
      "source": [
        "# loop through all states\n",
        "for state in data3:\n",
        "  # if title not in body\n",
        "  if state['title'] not in state['body']:\n",
        "    # add title string to body\n",
        "    state['body'] = state['title'] + '. ' + state['body']"
      ],
      "metadata": {
        "id": "2elKVWfMN2Qc"
      },
      "execution_count": 26,
      "outputs": []
    },
    {
      "cell_type": "code",
      "source": [
        "# save the updated documentation file\n",
        "with open('documentation4.json', 'w') as outfile:\n",
        "    json.dump(data3, outfile, indent=4)"
      ],
      "metadata": {
        "id": "HgZXqlpcOXrn"
      },
      "execution_count": 27,
      "outputs": []
    },
    {
      "cell_type": "code",
      "source": [
        "# open updated documentation file\n",
        "with open('documentation4.json') as f:\n",
        "  data4 = json.load(f)"
      ],
      "metadata": {
        "id": "6cphJ_-bOfpk"
      },
      "execution_count": 28,
      "outputs": []
    },
    {
      "cell_type": "code",
      "source": [
        "# Confirm that the country name is now present in the 'body'\n",
        "for state in data4:\n",
        "  if state['id'] == '6545167':\n",
        "    print(state)"
      ],
      "metadata": {
        "colab": {
          "base_uri": "https://localhost:8080/"
        },
        "id": "fWqCjS93P1ZZ",
        "outputId": "ddd04a85-357d-46f7-a79b-0376f67662ee"
      },
      "execution_count": 29,
      "outputs": [
        {
          "output_type": "stream",
          "name": "stdout",
          "text": [
            "{'id': '6545167', 'title': 'Poland: SMS Guidelines', 'body': 'Poland: SMS Guidelines. MCC: 260. Dial Code: 48. Alphanumeric Sender IDs are supported and will be maintained, no registration is required.\\nThe use of generic Alpha Sender IDs is not recommended. Alpha Senders should be directly related to the message content. \\nThere are no restrictions with regards to content towards this destination.\\n\\nPlease make sure to always refer to our Acceptable Use Policy for Messaging.', 'url': 'https://support.telnyx.com/en/articles/6545167-poland-sms-guidelines'}\n"
          ]
        }
      ]
    },
    {
      "cell_type": "markdown",
      "source": [
        "### 5) Removing newlines"
      ],
      "metadata": {
        "id": "4kzG62ZmWIKg"
      }
    },
    {
      "cell_type": "code",
      "source": [
        "for state in data4:\n",
        "  state['body'] = state['body'].replace('.\\n\\n', '. ').replace('\\n', '. ')"
      ],
      "metadata": {
        "id": "z8qr44CpWHcX"
      },
      "execution_count": 30,
      "outputs": []
    },
    {
      "cell_type": "code",
      "source": [
        "data4[0]"
      ],
      "metadata": {
        "colab": {
          "base_uri": "https://localhost:8080/"
        },
        "id": "Mqze_wuYW09G",
        "outputId": "15b0b6a2-e814-48a9-c612-2a1745d6a85a"
      },
      "execution_count": 31,
      "outputs": [
        {
          "output_type": "execute_result",
          "data": {
            "text/plain": [
              "{'id': '6683745',\n",
              " 'title': 'Serbia: SMS Guidelines',\n",
              " 'body': 'Serbia: SMS Guidelines. MCC: 220. Dial Code: 381. Alphanumeric Sender IDs are supported with registration. Registration is possible to ensure Alphanumeric Senders can be maintained. Without registration, Alpha Senders will be overwritten to Generic Alpha Sender IDs. The registration of Alphanumeric Senders involves monthly fees. Please make sure to always refer to our Acceptable Use Policy for Messaging. For more information on Alpha Sender ID registration kindly reach out to alpha_sender_id@telnyx.com. ',\n",
              " 'url': 'https://support.telnyx.com/en/articles/6683745-serbia-sms-guidelines'}"
            ]
          },
          "metadata": {},
          "execution_count": 31
        }
      ]
    },
    {
      "cell_type": "code",
      "source": [
        "data4[1]"
      ],
      "metadata": {
        "colab": {
          "base_uri": "https://localhost:8080/"
        },
        "id": "kH5ExB6ncHWT",
        "outputId": "5ba7c190-537d-45df-bc2b-cf286ce3b019"
      },
      "execution_count": 32,
      "outputs": [
        {
          "output_type": "execute_result",
          "data": {
            "text/plain": [
              "{'id': '6683734',\n",
              " 'title': 'Republic of Korea (South Korea): SMS Guidelines',\n",
              " 'body': 'Republic of Korea (South Korea): SMS Guidelines. MCC: 450. Dial Code: 82. Alphanumeric Sender IDs are not supported. Registration is not possible. All Alphanumeric Sender IDs will be overwritten to a random Local Long Code  to ensure delivery. All messages to this destination will have the following text added by default:. [Web 발신] : This indicates A2P traffic[국제발신]: This indicates that the message has been sent from abroad. Gambling and Adult content is not permitted. Please make sure to always refer to our Acceptable Use Policy for Messaging.',\n",
              " 'url': 'https://support.telnyx.com/en/articles/6683734-republic-of-korea-south-korea-sms-guidelines'}"
            ]
          },
          "metadata": {},
          "execution_count": 32
        }
      ]
    },
    {
      "cell_type": "code",
      "source": [
        "# save the updated json file\n",
        "with open('preprocessed.json', 'w') as outfile:\n",
        "    json.dump(data4, outfile, indent=4)"
      ],
      "metadata": {
        "id": "6D8vQg5EWxOC"
      },
      "execution_count": 33,
      "outputs": []
    },
    {
      "cell_type": "code",
      "source": [
        "ls"
      ],
      "metadata": {
        "id": "0jPIzktJIX7W",
        "outputId": "2d905761-ebc5-4d69-b0d0-a58cc74ab093",
        "colab": {
          "base_uri": "https://localhost:8080/"
        }
      },
      "execution_count": 34,
      "outputs": [
        {
          "output_type": "stream",
          "name": "stdout",
          "text": [
            "documentation2.json  documentation4.json  preprocessed.json\n",
            "documentation3.json  documentation.json   \u001b[0m\u001b[01;34msample_data\u001b[0m/\n"
          ]
        }
      ]
    }
  ]
}