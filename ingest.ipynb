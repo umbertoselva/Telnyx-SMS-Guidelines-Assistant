{
  "nbformat": 4,
  "nbformat_minor": 0,
  "metadata": {
    "colab": {
      "provenance": []
    },
    "kernelspec": {
      "name": "python3",
      "display_name": "Python 3"
    },
    "language_info": {
      "name": "python"
    }
  },
  "cells": [
    {
      "cell_type": "code",
      "source": [
        "%%capture\n",
        "!pip install langchain openai jq tiktoken faiss-cpu"
      ],
      "metadata": {
        "id": "mUv4N-3cQ2rG"
      },
      "execution_count": null,
      "outputs": []
    },
    {
      "cell_type": "code",
      "execution_count": null,
      "metadata": {
        "id": "DGCRDSkuQw1q"
      },
      "outputs": [],
      "source": [
        "from langchain.document_loaders import JSONLoader # requires jq\n",
        "from langchain.text_splitter import RecursiveCharacterTextSplitter\n",
        "from langchain.embeddings import OpenAIEmbeddings # requires tiktoken\n",
        "from langchain.vectorstores.faiss import FAISS # requires faiss-cpu\n",
        "import pickle\n",
        "import os"
      ]
    },
    {
      "cell_type": "code",
      "source": [
        "# Load the preprocessed JSON documentation\n",
        "loader = JSONLoader(\n",
        "    file_path='preprocessed.json',\n",
        "    jq_schema='.[].body')\n",
        "\n",
        "raw_text = loader.load()"
      ],
      "metadata": {
        "id": "RF92y5pPQ24u"
      },
      "execution_count": null,
      "outputs": []
    },
    {
      "cell_type": "code",
      "source": [
        "# raw_text"
      ],
      "metadata": {
        "id": "cwNnUyYIpDVG"
      },
      "execution_count": null,
      "outputs": []
    },
    {
      "cell_type": "code",
      "source": [
        "len(raw_text)"
      ],
      "metadata": {
        "colab": {
          "base_uri": "https://localhost:8080/"
        },
        "id": "G4YEa7nymmwk",
        "outputId": "6fcf062e-d8c2-4486-a75b-54706190443a"
      },
      "execution_count": null,
      "outputs": [
        {
          "output_type": "execute_result",
          "data": {
            "text/plain": [
              "212"
            ]
          },
          "metadata": {},
          "execution_count": 5
        }
      ]
    },
    {
      "cell_type": "code",
      "source": [
        "# Split text (possibly not necessary here)\n",
        "text_splitter = RecursiveCharacterTextSplitter()\n",
        "split_text = text_splitter.split_documents(raw_text)"
      ],
      "metadata": {
        "id": "QEQWoif5SIFk"
      },
      "execution_count": null,
      "outputs": []
    },
    {
      "cell_type": "code",
      "source": [
        "# split_text"
      ],
      "metadata": {
        "id": "wri4_BUepTBu"
      },
      "execution_count": null,
      "outputs": []
    },
    {
      "cell_type": "code",
      "source": [
        "len(split_text)"
      ],
      "metadata": {
        "colab": {
          "base_uri": "https://localhost:8080/"
        },
        "id": "jTcXdqXTphLF",
        "outputId": "455b5762-7248-4565-e999-089c4d960bc5"
      },
      "execution_count": null,
      "outputs": [
        {
          "output_type": "execute_result",
          "data": {
            "text/plain": [
              "212"
            ]
          },
          "metadata": {},
          "execution_count": 8
        }
      ]
    },
    {
      "cell_type": "code",
      "source": [
        "import os\n",
        "from getpass import getpass\n",
        "os.environ[\"OPENAI_API_KEY\"] = getpass('Enter OpenAI API key: ')"
      ],
      "metadata": {
        "colab": {
          "base_uri": "https://localhost:8080/"
        },
        "id": "rOvsePtBSJ87",
        "outputId": "4ba7df43-4ffe-41b4-a4d4-a0409b07ad85"
      },
      "execution_count": null,
      "outputs": [
        {
          "name": "stdout",
          "output_type": "stream",
          "text": [
            "Enter OpenAI API key: ··········\n"
          ]
        }
      ]
    },
    {
      "cell_type": "code",
      "source": [
        "# Select embeddings\n",
        "embeddings = OpenAIEmbeddings()"
      ],
      "metadata": {
        "id": "I3Njhsa3SMLI"
      },
      "execution_count": null,
      "outputs": []
    },
    {
      "cell_type": "code",
      "source": [
        "# Load data into a vectorstore\n",
        "vectorstore = FAISS.from_documents(split_text, embeddings)"
      ],
      "metadata": {
        "id": "imyHgC23Sjsd"
      },
      "execution_count": null,
      "outputs": []
    },
    {
      "cell_type": "code",
      "source": [
        "# Save vectorstore\n",
        "with open(\"vectorstore.pkl\", \"wb\") as f:\n",
        "    pickle.dump(vectorstore, f)"
      ],
      "metadata": {
        "id": "Sxq9LvJNSRHV"
      },
      "execution_count": null,
      "outputs": []
    },
    {
      "cell_type": "code",
      "source": [
        "ls"
      ],
      "metadata": {
        "id": "1Y2WVSofnMX8",
        "outputId": "6acdcac0-232d-4abb-fd4f-339f6087e268",
        "colab": {
          "base_uri": "https://localhost:8080/"
        }
      },
      "execution_count": null,
      "outputs": [
        {
          "output_type": "stream",
          "name": "stdout",
          "text": [
            "preprocessed.json  \u001b[0m\u001b[01;34msample_data\u001b[0m/  vectorstore.pkl\n"
          ]
        }
      ]
    }
  ]
}